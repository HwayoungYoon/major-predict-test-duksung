{
 "cells": [
  {
   "cell_type": "markdown",
   "metadata": {},
   "source": [
    "# DB 생성"
   ]
  },
  {
   "cell_type": "markdown",
   "metadata": {},
   "source": [
    "- library install & import"
   ]
  },
  {
   "cell_type": "code",
   "execution_count": 1,
   "metadata": {
    "scrolled": true
   },
   "outputs": [
    {
     "name": "stdout",
     "output_type": "stream",
     "text": [
      "Collecting pymysql\n",
      "  Downloading PyMySQL-0.9.3-py2.py3-none-any.whl (47 kB)\n",
      "Installing collected packages: pymysql\n",
      "Successfully installed pymysql-0.9.3\n"
     ]
    }
   ],
   "source": [
    "!pip install pymysql"
   ]
  },
  {
   "cell_type": "code",
   "execution_count": 2,
   "metadata": {},
   "outputs": [],
   "source": [
    "import pymysql.cursors\n",
    "\n",
    "import urllib\n",
    "import time\n",
    " \n",
    "from urllib.request import urlopen\n",
    "from bs4 import BeautifulSoup\n",
    "\n",
    "import pandas as pd\n",
    "\n",
    "import time"
   ]
  },
  {
   "cell_type": "markdown",
   "metadata": {},
   "source": [
    "- PREDICT 이라는 이름의 DATABASE 생성"
   ]
  },
  {
   "cell_type": "code",
   "execution_count": 6,
   "metadata": {},
   "outputs": [
    {
     "name": "stdout",
     "output_type": "stream",
     "text": [
      "db exist\n"
     ]
    }
   ],
   "source": [
    "conn = pymysql.connect(host='127.0.0.1',\n",
    "        user='root',\n",
    "        password='dbsql2019',\n",
    "        charset='utf8mb4')\n",
    "\n",
    "try:\n",
    "    with conn.cursor() as cursor:\n",
    "        sql = 'DROP DATABASE PREDICT'\n",
    "        cursor.execute(sql)\n",
    "        #result = cursor.fetchall()\n",
    "        #print(result)\n",
    "    conn.commit()\n",
    "except:\n",
    "    print('db exist')\n",
    "finally:\n",
    "    conn.close()"
   ]
  },
  {
   "cell_type": "code",
   "execution_count": 8,
   "metadata": {},
   "outputs": [
    {
     "name": "stdout",
     "output_type": "stream",
     "text": [
      "db exist\n"
     ]
    }
   ],
   "source": [
    "conn = pymysql.connect(host='127.0.0.1',\n",
    "        user='root',\n",
    "        password='dbsql2019',\n",
    "        charset='utf8mb4')\n",
    "\n",
    "try:\n",
    "    with conn.cursor() as cursor:\n",
    "        sql = 'CREATE DATABASE PREDICT'\n",
    "        cursor.execute(sql)\n",
    "        #result = cursor.fetchall()\n",
    "        #print(result)\n",
    "except:\n",
    "    print('db exist')\n",
    "finally:\n",
    "    conn.close()"
   ]
  },
  {
   "cell_type": "markdown",
   "metadata": {},
   "source": [
    "- MAJOR 테이블 생성 (전공별 정원, 전공별 2016-2019 경쟁률, 전공별 에타 경쟁률)\n",
    "\n",
    "<column 설명>\n",
    "\n",
    "MAJOR_ID : 전공별 id\n",
    "\n",
    "COLLEGE : 단과대명\n",
    "\n",
    "MAJOR_NAME : 전공명\n",
    "\n",
    "MAJOR_LIMIT : 정원\n",
    "\n",
    "AR_2016 : 2016년 경쟁률\n",
    "\n",
    "AR_2017 : 2017년 경쟁률\n",
    "\n",
    "AR_2018 : 2018년 경쟁률\n",
    "\n",
    "AR_2019 : 2019년 경쟁률\n",
    "\n",
    "EVERY_TIME : 에타 경쟁률"
   ]
  },
  {
   "cell_type": "code",
   "execution_count": 16,
   "metadata": {},
   "outputs": [],
   "source": [
    "conn = pymysql.connect(host='127.0.0.1',user='root',password='dbsql2019',charset='utf8mb4',db = 'PREDICT')\n",
    "\n",
    "try:\n",
    "    with conn.cursor() as cursor:\n",
    "        sql = '''CREATE TABLE MAJOR (\n",
    "                MAJOR_ID INTEGER NOT NULL ,\n",
    "                COLLEGE VARCHAR(50) NOT NULL ,\n",
    "                MAJOR_NAME VARCHAR(50) NOT NULL ,\n",
    "                MAJOR_LIMIT INTEGER NOT NULL ,\n",
    "                AR_2016 NUMERIC(7,4) ,\n",
    "                AR_2017 NUMERIC(7,4) ,\n",
    "                AR_2018 NUMERIC(7,4) ,\n",
    "                AR_2019 NUMERIC(7,4) ,\n",
    "                EVERY_TIME NUMERIC(7,4) ,\n",
    "                PRIMARY KEY(MAJOR_ID, MAJOR_NAME)\n",
    "               )'''\n",
    "        cursor.execute(sql)\n",
    "        #result = cursor.fetchall()\n",
    "        #print(result)\n",
    "except:\n",
    "    print('table exist')\n",
    "finally:\n",
    "    conn.close()"
   ]
  },
  {
   "cell_type": "markdown",
   "metadata": {},
   "source": [
    "- STUDENT 테이블 생성 (학생별 학점, 평점, 비교과, 전공이수여부)\n",
    "\n",
    "<column 설명>\n",
    "\n",
    "STUDENT_ID : 학생별 id(학번)\n",
    "\n",
    "COLLEGE : 단과대명\n",
    "\n",
    "MAJOR_NAME : 전공명\n",
    "\n",
    "CREDIT_1 : 1학기 학점\n",
    "\n",
    "CREDIT_2 : 2학기 학점\n",
    "\n",
    "GPA_1 : 1학기 평점\n",
    "\n",
    "GPA_2 : 2학기 평점\n",
    "\n",
    "EXTRA_ACTIVITY : 비교과 점수\n",
    "\n",
    "COMPLETE_MAJOR : 전공이수여부(0은 이수 안함, 1은 이수 함)"
   ]
  },
  {
   "cell_type": "code",
   "execution_count": 17,
   "metadata": {},
   "outputs": [],
   "source": [
    "conn = pymysql.connect(host='127.0.0.1',user='root',password='dbsql2019',charset='utf8mb4',db = 'PREDICT')\n",
    "\n",
    "try:\n",
    "    with conn.cursor() as cursor:\n",
    "        sql = '''CREATE TABLE STUDENT (\n",
    "                STUDENT_ID INTEGER NOT NULL ,\n",
    "                COLLEGE VARCHAR(50) NOT NULL ,\n",
    "                MAJOR_NAME VARCHAR(50) NOT NULL ,\n",
    "                CREDIT_1 INTEGER NOT NULL ,\n",
    "                CREDIT_2 INTEGER NOT NULL ,\n",
    "                GPA_1 NUMERIC(4,3) NOT NULL ,\n",
    "                GPA_2 NUMERIC(4,3) NOT NULL ,\n",
    "                EXTRA_ACTIVITY INTEGER DEFAULT 0 ,\n",
    "                COMPLETE_MAJOR INTEGER DEFAULT 0 ,\n",
    "                PRIMARY KEY(STUDENT_ID, MAJOR_NAME)\n",
    "               )'''\n",
    "        cursor.execute(sql)\n",
    "        #result = cursor.fetchall()\n",
    "        #print(result)\n",
    "except:\n",
    "    print('table exist')\n",
    "finally:\n",
    "    conn.close()"
   ]
  },
  {
   "cell_type": "code",
   "execution_count": null,
   "metadata": {},
   "outputs": [],
   "source": []
  }
 ],
 "metadata": {
  "kernelspec": {
   "display_name": "Python 3",
   "language": "python",
   "name": "python3"
  },
  "language_info": {
   "codemirror_mode": {
    "name": "ipython",
    "version": 3
   },
   "file_extension": ".py",
   "mimetype": "text/x-python",
   "name": "python",
   "nbconvert_exporter": "python",
   "pygments_lexer": "ipython3",
   "version": "3.7.6"
  }
 },
 "nbformat": 4,
 "nbformat_minor": 4
}
