{
  "nbformat": 4,
  "nbformat_minor": 0,
  "metadata": {
    "colab": {
      "name": "Model_Training.ipynb",
      "provenance": [],
      "collapsed_sections": [],
      "toc_visible": true,
      "authorship_tag": "ABX9TyMvjbDCflaDxjdGjD/95cRY",
      "include_colab_link": true
    },
    "kernelspec": {
      "name": "python3",
      "display_name": "Python 3"
    }
  },
  "cells": [
    {
      "cell_type": "markdown",
      "metadata": {
        "id": "view-in-github",
        "colab_type": "text"
      },
      "source": [
        "<a href=\"https://colab.research.google.com/github/HwayoungYoon/major-predict-test-duksung/blob/master/Model_Training.ipynb\" target=\"_parent\"><img src=\"https://colab.research.google.com/assets/colab-badge.svg\" alt=\"Open In Colab\"/></a>"
      ]
    },
    {
      "cell_type": "markdown",
      "metadata": {
        "id": "hX8ihP4KrGW8",
        "colab_type": "text"
      },
      "source": [
        "# 0. 환경설정 및 라이브러리 import\n",
        "<참고>\n",
        "https://zzsza.github.io/data/2018/08/30/google-colab/"
      ]
    },
    {
      "cell_type": "code",
      "metadata": {
        "id": "eyRM7ZPfrJi4",
        "colab_type": "code",
        "colab": {
          "base_uri": "https://localhost:8080/",
          "height": 56
        },
        "outputId": "80ebb372-a871-4451-aa02-99c175be9489"
      },
      "source": [
        "# Google Drive와 Colab 연동\n",
        "# 실행 후 나오는 URL 접속하여 authorization code 받기\n",
        "from google.colab import auth\n",
        "auth.authenticate_user()\n",
        "\n",
        "from google.colab import drive\n",
        "drive.mount('/content/gdrive')"
      ],
      "execution_count": null,
      "outputs": [
        {
          "output_type": "stream",
          "text": [
            "Drive already mounted at /content/gdrive; to attempt to forcibly remount, call drive.mount(\"/content/gdrive\", force_remount=True).\n"
          ],
          "name": "stdout"
        }
      ]
    },
    {
      "cell_type": "code",
      "metadata": {
        "id": "vlcstk7stPO8",
        "colab_type": "code",
        "colab": {
          "base_uri": "https://localhost:8080/",
          "height": 36
        },
        "outputId": "f2f86664-d944-43ca-fec8-d3c26ab3593e"
      },
      "source": [
        "cd gdrive/My Drive/predict"
      ],
      "execution_count": null,
      "outputs": [
        {
          "output_type": "stream",
          "text": [
            "/content/gdrive/My Drive/predict\n"
          ],
          "name": "stdout"
        }
      ]
    },
    {
      "cell_type": "code",
      "metadata": {
        "id": "eYPEeeJIuKZD",
        "colab_type": "code",
        "colab": {
          "base_uri": "https://localhost:8080/",
          "height": 75
        },
        "outputId": "36546a38-0326-468c-9f6b-6d9433a0bbb3"
      },
      "source": [
        "# # 기본\n",
        "import numpy as np\n",
        "from numpy.linalg import inv\n",
        "from numpy.linalg import solve\n",
        "import random\n",
        "import pandas as pd\n",
        "from pandas import Series, DataFrame\n",
        "import pandas_profiling\n",
        "import openpyxl\n",
        "\n",
        "import matplotlib.pyplot as plt\n",
        "import urllib\n",
        "import matplotlib.dates as mdates\n",
        "from matplotlib.dates import bytespdate2num\n",
        "import matplotlib.ticker as ticker\n",
        "from matplotlib import font_manager, rc\n",
        "from matplotlib import style\n",
        "import seaborn as sns\n",
        "\n",
        "import pickle\n",
        "\n",
        "import time\n",
        "\n",
        "# Machine Learning\n",
        "from sklearn.preprocessing import StandardScaler, MinMaxScaler\n",
        "from sklearn.linear_model import LinearRegression\n",
        "from sklearn.model_selection import train_test_split\n",
        "from sklearn.metrics import r2_score\n",
        "from sklearn.model_selection import PredefinedSplit\n",
        "from sklearn.model_selection import GridSearchCV, ParameterGrid\n",
        "from sklearn.metrics import (roc_curve, auc, accuracy_score, roc_auc_score)\n",
        "from sklearn.cluster import KMeans\n",
        "from sklearn.decomposition import PCA\n",
        "from sklearn.metrics import silhouette_samples, silhouette_score\n",
        "from sklearn.preprocessing import OneHotEncoder,LabelEncoder\n",
        "from sklearn.preprocessing import StandardScaler\n",
        "from sklearn.preprocessing import MinMaxScaler\n",
        "from sklearn.preprocessing import RobustScaler\n",
        "from sklearn.datasets import make_blobs\n",
        "import scipy.cluster.hierarchy as shc\n",
        "from sklearn.cluster import AgglomerativeClustering\n",
        "from sklearn.metrics import classification_report\n",
        "from sklearn.ensemble import AdaBoostRegressor, GradientBoostingRegressor\n",
        "from lightgbm import LGBMClassifier, LGBMRegressor\n",
        "import lightgbm as lgb\n",
        "from sklearn.ensemble import RandomForestClassifier\n",
        "from sklearn import metrics\n",
        "from xgboost import XGBClassifier, plot_importance\n",
        "from sklearn.metrics import make_scorer\n",
        "from sklearn.model_selection import GridSearchCV\n",
        "from sklearn.metrics import auc, f1_score, accuracy_score\n",
        "from sklearn.metrics import roc_auc_score\n",
        "\n",
        "# 설정\n",
        "pd.set_option('display.max_columns', 200)\n",
        "pd.set_option('display.max_rows', 200)"
      ],
      "execution_count": null,
      "outputs": [
        {
          "output_type": "stream",
          "text": [
            "/usr/local/lib/python3.6/dist-packages/statsmodels/tools/_testing.py:19: FutureWarning: pandas.util.testing is deprecated. Use the functions in the public API at pandas.testing instead.\n",
            "  import pandas.util.testing as tm\n"
          ],
          "name": "stderr"
        }
      ]
    },
    {
      "cell_type": "markdown",
      "metadata": {
        "id": "23JWA4XhxLnW",
        "colab_type": "text"
      },
      "source": [
        "# 1. 데이터 준비"
      ]
    },
    {
      "cell_type": "markdown",
      "metadata": {
        "id": "A9IoepTxyrop",
        "colab_type": "text"
      },
      "source": [
        "## 1) 데이터 입력 및 확인"
      ]
    },
    {
      "cell_type": "code",
      "metadata": {
        "id": "MK_A5XMTw3Ae",
        "colab_type": "code",
        "colab": {}
      },
      "source": [
        "# data 입력\n",
        "df = pd.read_csv(\"data_merge_plus.csv\")"
      ],
      "execution_count": null,
      "outputs": []
    },
    {
      "cell_type": "code",
      "metadata": {
        "id": "aym8Vc0Nw6Vu",
        "colab_type": "code",
        "colab": {
          "base_uri": "https://localhost:8080/",
          "height": 222
        },
        "outputId": "09c02808-47a8-49df-a5d6-cec58c03ffc0"
      },
      "source": [
        "# data 확인\n",
        "df.head()"
      ],
      "execution_count": null,
      "outputs": [
        {
          "output_type": "execute_result",
          "data": {
            "text/html": [
              "<div>\n",
              "<style scoped>\n",
              "    .dataframe tbody tr th:only-of-type {\n",
              "        vertical-align: middle;\n",
              "    }\n",
              "\n",
              "    .dataframe tbody tr th {\n",
              "        vertical-align: top;\n",
              "    }\n",
              "\n",
              "    .dataframe thead th {\n",
              "        text-align: right;\n",
              "    }\n",
              "</style>\n",
              "<table border=\"1\" class=\"dataframe\">\n",
              "  <thead>\n",
              "    <tr style=\"text-align: right;\">\n",
              "      <th></th>\n",
              "      <th>STUDENT_ID</th>\n",
              "      <th>COLLEGE</th>\n",
              "      <th>MAJOR_NAME</th>\n",
              "      <th>CREDIT_1</th>\n",
              "      <th>CREDIT_2</th>\n",
              "      <th>GPA_1</th>\n",
              "      <th>GPA_2</th>\n",
              "      <th>EXTRA_ACTIVITY</th>\n",
              "      <th>COMPLETE_MAJOR</th>\n",
              "      <th>PF</th>\n",
              "      <th>AR_2016</th>\n",
              "      <th>AR_2017</th>\n",
              "      <th>AR_2018</th>\n",
              "      <th>AR_2019</th>\n",
              "      <th>EVERY_TIME</th>\n",
              "    </tr>\n",
              "  </thead>\n",
              "  <tbody>\n",
              "    <tr>\n",
              "      <th>0</th>\n",
              "      <td>1</td>\n",
              "      <td>Art&amp;Design</td>\n",
              "      <td>동양화</td>\n",
              "      <td>18</td>\n",
              "      <td>12</td>\n",
              "      <td>4.2310</td>\n",
              "      <td>4.2098</td>\n",
              "      <td>300</td>\n",
              "      <td>1</td>\n",
              "      <td>1</td>\n",
              "      <td>15.35</td>\n",
              "      <td>19.85</td>\n",
              "      <td>14.4</td>\n",
              "      <td>10.5</td>\n",
              "      <td>0.111</td>\n",
              "    </tr>\n",
              "    <tr>\n",
              "      <th>1</th>\n",
              "      <td>2</td>\n",
              "      <td>Art&amp;Design</td>\n",
              "      <td>동양화</td>\n",
              "      <td>18</td>\n",
              "      <td>18</td>\n",
              "      <td>4.1486</td>\n",
              "      <td>4.1206</td>\n",
              "      <td>50</td>\n",
              "      <td>1</td>\n",
              "      <td>1</td>\n",
              "      <td>15.35</td>\n",
              "      <td>19.85</td>\n",
              "      <td>14.4</td>\n",
              "      <td>10.5</td>\n",
              "      <td>0.111</td>\n",
              "    </tr>\n",
              "    <tr>\n",
              "      <th>2</th>\n",
              "      <td>3</td>\n",
              "      <td>Art&amp;Design</td>\n",
              "      <td>동양화</td>\n",
              "      <td>18</td>\n",
              "      <td>15</td>\n",
              "      <td>4.1206</td>\n",
              "      <td>4.1066</td>\n",
              "      <td>300</td>\n",
              "      <td>1</td>\n",
              "      <td>1</td>\n",
              "      <td>15.35</td>\n",
              "      <td>19.85</td>\n",
              "      <td>14.4</td>\n",
              "      <td>10.5</td>\n",
              "      <td>0.111</td>\n",
              "    </tr>\n",
              "    <tr>\n",
              "      <th>3</th>\n",
              "      <td>4</td>\n",
              "      <td>Art&amp;Design</td>\n",
              "      <td>동양화</td>\n",
              "      <td>18</td>\n",
              "      <td>18</td>\n",
              "      <td>4.1021</td>\n",
              "      <td>4.0617</td>\n",
              "      <td>300</td>\n",
              "      <td>0</td>\n",
              "      <td>1</td>\n",
              "      <td>15.35</td>\n",
              "      <td>19.85</td>\n",
              "      <td>14.4</td>\n",
              "      <td>10.5</td>\n",
              "      <td>0.111</td>\n",
              "    </tr>\n",
              "    <tr>\n",
              "      <th>4</th>\n",
              "      <td>5</td>\n",
              "      <td>Art&amp;Design</td>\n",
              "      <td>동양화</td>\n",
              "      <td>18</td>\n",
              "      <td>18</td>\n",
              "      <td>4.0589</td>\n",
              "      <td>4.0509</td>\n",
              "      <td>200</td>\n",
              "      <td>1</td>\n",
              "      <td>1</td>\n",
              "      <td>15.35</td>\n",
              "      <td>19.85</td>\n",
              "      <td>14.4</td>\n",
              "      <td>10.5</td>\n",
              "      <td>0.111</td>\n",
              "    </tr>\n",
              "  </tbody>\n",
              "</table>\n",
              "</div>"
            ],
            "text/plain": [
              "   STUDENT_ID     COLLEGE MAJOR_NAME  CREDIT_1  CREDIT_2   GPA_1   GPA_2  \\\n",
              "0           1  Art&Design        동양화        18        12  4.2310  4.2098   \n",
              "1           2  Art&Design        동양화        18        18  4.1486  4.1206   \n",
              "2           3  Art&Design        동양화        18        15  4.1206  4.1066   \n",
              "3           4  Art&Design        동양화        18        18  4.1021  4.0617   \n",
              "4           5  Art&Design        동양화        18        18  4.0589  4.0509   \n",
              "\n",
              "   EXTRA_ACTIVITY  COMPLETE_MAJOR  PF  AR_2016  AR_2017  AR_2018  AR_2019  \\\n",
              "0             300               1   1    15.35    19.85     14.4     10.5   \n",
              "1              50               1   1    15.35    19.85     14.4     10.5   \n",
              "2             300               1   1    15.35    19.85     14.4     10.5   \n",
              "3             300               0   1    15.35    19.85     14.4     10.5   \n",
              "4             200               1   1    15.35    19.85     14.4     10.5   \n",
              "\n",
              "   EVERY_TIME  \n",
              "0       0.111  \n",
              "1       0.111  \n",
              "2       0.111  \n",
              "3       0.111  \n",
              "4       0.111  "
            ]
          },
          "metadata": {
            "tags": []
          },
          "execution_count": 172
        }
      ]
    },
    {
      "cell_type": "markdown",
      "metadata": {
        "id": "oCQy6CdkRrjL",
        "colab_type": "text"
      },
      "source": [
        "전공선발 점수 column 'MAJOR_SCORE' 추가\n",
        "\n",
        "```\n",
        "MAJOR_SCORE = COMPLETE_MAJOR*400 + EXTRA_ACTIVITY + (CREDIT_1 + CREDIT_2)*150/36\n",
        " + (CREDIT_1*GPA_1 + CREDIT_2*GPA_2)/(CREDIT_1 + CREDIT_2)*150/4.5\n",
        "```"
      ]
    },
    {
      "cell_type": "code",
      "metadata": {
        "id": "zQo3-HytTyaf",
        "colab_type": "code",
        "colab": {}
      },
      "source": [
        "df['MAJOR_SCORE'] = df['COMPLETE_MAJOR']*400 + df['EXTRA_ACTIVITY'] + (df['CREDIT_1'] + df['CREDIT_2'])*150/36 + (df['CREDIT_1']*df['GPA_1'] + df['CREDIT_2']*df['GPA_2'])/(df['CREDIT_1'] + df['CREDIT_2'])*150/4.5"
      ],
      "execution_count": null,
      "outputs": []
    },
    {
      "cell_type": "code",
      "metadata": {
        "id": "N-_rfmotUhec",
        "colab_type": "code",
        "colab": {
          "base_uri": "https://localhost:8080/",
          "height": 222
        },
        "outputId": "2fdbc2d7-dfd1-4d19-b814-212e30960bff"
      },
      "source": [
        "# data 확인\n",
        "df.head()"
      ],
      "execution_count": null,
      "outputs": [
        {
          "output_type": "execute_result",
          "data": {
            "text/html": [
              "<div>\n",
              "<style scoped>\n",
              "    .dataframe tbody tr th:only-of-type {\n",
              "        vertical-align: middle;\n",
              "    }\n",
              "\n",
              "    .dataframe tbody tr th {\n",
              "        vertical-align: top;\n",
              "    }\n",
              "\n",
              "    .dataframe thead th {\n",
              "        text-align: right;\n",
              "    }\n",
              "</style>\n",
              "<table border=\"1\" class=\"dataframe\">\n",
              "  <thead>\n",
              "    <tr style=\"text-align: right;\">\n",
              "      <th></th>\n",
              "      <th>STUDENT_ID</th>\n",
              "      <th>COLLEGE</th>\n",
              "      <th>MAJOR_NAME</th>\n",
              "      <th>CREDIT_1</th>\n",
              "      <th>CREDIT_2</th>\n",
              "      <th>GPA_1</th>\n",
              "      <th>GPA_2</th>\n",
              "      <th>EXTRA_ACTIVITY</th>\n",
              "      <th>COMPLETE_MAJOR</th>\n",
              "      <th>PF</th>\n",
              "      <th>AR_2016</th>\n",
              "      <th>AR_2017</th>\n",
              "      <th>AR_2018</th>\n",
              "      <th>AR_2019</th>\n",
              "      <th>EVERY_TIME</th>\n",
              "      <th>MAJOR_SCORE</th>\n",
              "    </tr>\n",
              "  </thead>\n",
              "  <tbody>\n",
              "    <tr>\n",
              "      <th>0</th>\n",
              "      <td>1</td>\n",
              "      <td>Art&amp;Design</td>\n",
              "      <td>동양화</td>\n",
              "      <td>18</td>\n",
              "      <td>12</td>\n",
              "      <td>4.2310</td>\n",
              "      <td>4.2098</td>\n",
              "      <td>300</td>\n",
              "      <td>1</td>\n",
              "      <td>1</td>\n",
              "      <td>15.35</td>\n",
              "      <td>19.85</td>\n",
              "      <td>14.4</td>\n",
              "      <td>10.5</td>\n",
              "      <td>0.111</td>\n",
              "      <td>965.750667</td>\n",
              "    </tr>\n",
              "    <tr>\n",
              "      <th>1</th>\n",
              "      <td>2</td>\n",
              "      <td>Art&amp;Design</td>\n",
              "      <td>동양화</td>\n",
              "      <td>18</td>\n",
              "      <td>18</td>\n",
              "      <td>4.1486</td>\n",
              "      <td>4.1206</td>\n",
              "      <td>50</td>\n",
              "      <td>1</td>\n",
              "      <td>1</td>\n",
              "      <td>15.35</td>\n",
              "      <td>19.85</td>\n",
              "      <td>14.4</td>\n",
              "      <td>10.5</td>\n",
              "      <td>0.111</td>\n",
              "      <td>737.820000</td>\n",
              "    </tr>\n",
              "    <tr>\n",
              "      <th>2</th>\n",
              "      <td>3</td>\n",
              "      <td>Art&amp;Design</td>\n",
              "      <td>동양화</td>\n",
              "      <td>18</td>\n",
              "      <td>15</td>\n",
              "      <td>4.1206</td>\n",
              "      <td>4.1066</td>\n",
              "      <td>300</td>\n",
              "      <td>1</td>\n",
              "      <td>1</td>\n",
              "      <td>15.35</td>\n",
              "      <td>19.85</td>\n",
              "      <td>14.4</td>\n",
              "      <td>10.5</td>\n",
              "      <td>0.111</td>\n",
              "      <td>974.641212</td>\n",
              "    </tr>\n",
              "    <tr>\n",
              "      <th>3</th>\n",
              "      <td>4</td>\n",
              "      <td>Art&amp;Design</td>\n",
              "      <td>동양화</td>\n",
              "      <td>18</td>\n",
              "      <td>18</td>\n",
              "      <td>4.1021</td>\n",
              "      <td>4.0617</td>\n",
              "      <td>300</td>\n",
              "      <td>0</td>\n",
              "      <td>1</td>\n",
              "      <td>15.35</td>\n",
              "      <td>19.85</td>\n",
              "      <td>14.4</td>\n",
              "      <td>10.5</td>\n",
              "      <td>0.111</td>\n",
              "      <td>586.063333</td>\n",
              "    </tr>\n",
              "    <tr>\n",
              "      <th>4</th>\n",
              "      <td>5</td>\n",
              "      <td>Art&amp;Design</td>\n",
              "      <td>동양화</td>\n",
              "      <td>18</td>\n",
              "      <td>18</td>\n",
              "      <td>4.0589</td>\n",
              "      <td>4.0509</td>\n",
              "      <td>200</td>\n",
              "      <td>1</td>\n",
              "      <td>1</td>\n",
              "      <td>15.35</td>\n",
              "      <td>19.85</td>\n",
              "      <td>14.4</td>\n",
              "      <td>10.5</td>\n",
              "      <td>0.111</td>\n",
              "      <td>885.163333</td>\n",
              "    </tr>\n",
              "  </tbody>\n",
              "</table>\n",
              "</div>"
            ],
            "text/plain": [
              "   STUDENT_ID     COLLEGE MAJOR_NAME  CREDIT_1  CREDIT_2   GPA_1   GPA_2  \\\n",
              "0           1  Art&Design        동양화        18        12  4.2310  4.2098   \n",
              "1           2  Art&Design        동양화        18        18  4.1486  4.1206   \n",
              "2           3  Art&Design        동양화        18        15  4.1206  4.1066   \n",
              "3           4  Art&Design        동양화        18        18  4.1021  4.0617   \n",
              "4           5  Art&Design        동양화        18        18  4.0589  4.0509   \n",
              "\n",
              "   EXTRA_ACTIVITY  COMPLETE_MAJOR  PF  AR_2016  AR_2017  AR_2018  AR_2019  \\\n",
              "0             300               1   1    15.35    19.85     14.4     10.5   \n",
              "1              50               1   1    15.35    19.85     14.4     10.5   \n",
              "2             300               1   1    15.35    19.85     14.4     10.5   \n",
              "3             300               0   1    15.35    19.85     14.4     10.5   \n",
              "4             200               1   1    15.35    19.85     14.4     10.5   \n",
              "\n",
              "   EVERY_TIME  MAJOR_SCORE  \n",
              "0       0.111   965.750667  \n",
              "1       0.111   737.820000  \n",
              "2       0.111   974.641212  \n",
              "3       0.111   586.063333  \n",
              "4       0.111   885.163333  "
            ]
          },
          "metadata": {
            "tags": []
          },
          "execution_count": 192
        }
      ]
    },
        {
      "cell_type": "code",
      "metadata": {
        "id": "N-_rfmotUhec",
        "colab_type": "code",
        "colab": {
          "base_uri": "https://localhost:8080/",
          "height": 222
        },
        "outputId": "2fdbc2d7-dfd1-4d19-b814-212e30960bff"
      },
      "source": [
        "# csv 파일로 저장 및 확인\n",
        "df.to_csv(\"data_merge.csv\", index=False)\n",
        "pd.read_csv(\"data_merge.csv\")"
      ],
      "execution_count": null,
      "outputs": [
        {
          "output_type": "execute_result",
          "data": {
            "text/html": [
              "<div>\n",
              "<style scoped>\n",
              "    .dataframe tbody tr th:only-of-type {\n",
              "        vertical-align: middle;\n",
              "    }\n",
              "\n",
              "    .dataframe tbody tr th {\n",
              "        vertical-align: top;\n",
              "    }\n",
              "\n",
              "    .dataframe thead th {\n",
              "        text-align: right;\n",
              "    }\n",
              "</style>\n",
              "<table border=\"1\" class=\"dataframe\">\n",
              "  <thead>\n",
              "    <tr style=\"text-align: right;\">\n",
              "      <th></th>\n",
              "      <th>STUDENT_ID</th>\n",
              "      <th>COLLEGE</th>\n",
              "      <th>MAJOR_NAME</th>\n",
              "      <th>CREDIT_1</th>\n",
              "      <th>CREDIT_2</th>\n",
              "      <th>GPA_1</th>\n",
              "      <th>GPA_2</th>\n",
              "      <th>EXTRA_ACTIVITY</th>\n",
              "      <th>COMPLETE_MAJOR</th>\n",
              "      <th>PF</th>\n",
              "      <th>AR_2016</th>\n",
              "      <th>AR_2017</th>\n",
              "      <th>AR_2018</th>\n",
              "      <th>AR_2019</th>\n",
              "      <th>EVERY_TIME</th>\n",
              "      <th>MAJOR_SCORE</th>\n",
              "    </tr>\n",
              "  </thead>\n",
              "  <tbody>\n",
              "    <tr>\n",
              "      <th>0</th>\n",
              "      <td>1</td>\n",
              "      <td>Art&amp;Design</td>\n",
              "      <td>동양화</td>\n",
              "      <td>18</td>\n",
              "      <td>12</td>\n",
              "      <td>4.2310</td>\n",
              "      <td>4.2098</td>\n",
              "      <td>300</td>\n",
              "      <td>1</td>\n",
              "      <td>1</td>\n",
              "      <td>15.35</td>\n",
              "      <td>19.85</td>\n",
              "      <td>14.4</td>\n",
              "      <td>10.5</td>\n",
              "      <td>0.111</td>\n",
              "      <td>965.750667</td>\n",
              "    </tr>\n",
              "    <tr>\n",
              "      <th>1</th>\n",
              "      <td>2</td>\n",
              "      <td>Art&amp;Design</td>\n",
              "      <td>동양화</td>\n",
              "      <td>18</td>\n",
              "      <td>18</td>\n",
              "      <td>4.1486</td>\n",
              "      <td>4.1206</td>\n",
              "      <td>50</td>\n",
              "      <td>1</td>\n",
              "      <td>1</td>\n",
              "      <td>15.35</td>\n",
              "      <td>19.85</td>\n",
              "      <td>14.4</td>\n",
              "      <td>10.5</td>\n",
              "      <td>0.111</td>\n",
              "      <td>737.820000</td>\n",
              "    </tr>\n",
              "    <tr>\n",
              "      <th>2</th>\n",
              "      <td>3</td>\n",
              "      <td>Art&amp;Design</td>\n",
              "      <td>동양화</td>\n",
              "      <td>18</td>\n",
              "      <td>15</td>\n",
              "      <td>4.1206</td>\n",
              "      <td>4.1066</td>\n",
              "      <td>300</td>\n",
              "      <td>1</td>\n",
              "      <td>1</td>\n",
              "      <td>15.35</td>\n",
              "      <td>19.85</td>\n",
              "      <td>14.4</td>\n",
              "      <td>10.5</td>\n",
              "      <td>0.111</td>\n",
              "      <td>974.641212</td>\n",
              "    </tr>\n",
              "    <tr>\n",
              "      <th>3</th>\n",
              "      <td>4</td>\n",
              "      <td>Art&amp;Design</td>\n",
              "      <td>동양화</td>\n",
              "      <td>18</td>\n",
              "      <td>18</td>\n",
              "      <td>4.1021</td>\n",
              "      <td>4.0617</td>\n",
              "      <td>300</td>\n",
              "      <td>0</td>\n",
              "      <td>1</td>\n",
              "      <td>15.35</td>\n",
              "      <td>19.85</td>\n",
              "      <td>14.4</td>\n",
              "      <td>10.5</td>\n",
              "      <td>0.111</td>\n",
              "      <td>586.063333</td>\n",
              "    </tr>\n",
              "    <tr>\n",
              "      <th>4</th>\n",
              "      <td>5</td>\n",
              "      <td>Art&amp;Design</td>\n",
              "      <td>동양화</td>\n",
              "      <td>18</td>\n",
              "      <td>18</td>\n",
              "      <td>4.0589</td>\n",
              "      <td>4.0509</td>\n",
              "      <td>200</td>\n",
              "      <td>1</td>\n",
              "      <td>1</td>\n",
              "      <td>15.35</td>\n",
              "      <td>19.85</td>\n",
              "      <td>14.4</td>\n",
              "      <td>10.5</td>\n",
              "      <td>0.111</td>\n",
              "      <td>885.163333</td>\n",
              "    </tr>\n",
              "  </tbody>\n",
              "</table>\n",
              "</div>"
            ],
            "text/plain": [
              "   STUDENT_ID     COLLEGE MAJOR_NAME  CREDIT_1  CREDIT_2   GPA_1   GPA_2  \\\n",
              "0           1  Art&Design        동양화        18        12  4.2310  4.2098   \n",
              "1           2  Art&Design        동양화        18        18  4.1486  4.1206   \n",
              "2           3  Art&Design        동양화        18        15  4.1206  4.1066   \n",
              "3           4  Art&Design        동양화        18        18  4.1021  4.0617   \n",
              "4           5  Art&Design        동양화        18        18  4.0589  4.0509   \n",
              "\n",
              "   EXTRA_ACTIVITY  COMPLETE_MAJOR  PF  AR_2016  AR_2017  AR_2018  AR_2019  \\\n",
              "0             300               1   1    15.35    19.85     14.4     10.5   \n",
              "1              50               1   1    15.35    19.85     14.4     10.5   \n",
              "2             300               1   1    15.35    19.85     14.4     10.5   \n",
              "3             300               0   1    15.35    19.85     14.4     10.5   \n",
              "4             200               1   1    15.35    19.85     14.4     10.5   \n",
              "\n",
              "   EVERY_TIME  MAJOR_SCORE  \n",
              "0       0.111   965.750667  \n",
              "1       0.111   737.820000  \n",
              "2       0.111   974.641212  \n",
              "3       0.111   586.063333  \n",
              "4       0.111   885.163333  "
            ]
          },
          "metadata": {
            "tags": []
          },
          "execution_count": 192
        }
      ]
    },
    {
      "cell_type": "markdown",
      "metadata": {
        "id": "KJ94wx_jyCGp",
        "colab_type": "text"
      },
      "source": [
        "## 2) 데이터 나누기"
      ]
    },
    {
      "cell_type": "code",
      "metadata": {
        "id": "quCR1DwHxBeP",
        "colab_type": "code",
        "colab": {}
      },
      "source": [
        "# A, B로 data copy\n",
        "A = df.copy()\n",
        "B = df.copy()"
      ],
      "execution_count": null,
      "outputs": []
    },
    {
      "cell_type": "code",
      "metadata": {
        "id": "dapN6z4UyO_0",
        "colab_type": "code",
        "colab": {
          "base_uri": "https://localhost:8080/",
          "height": 222
        },
        "outputId": "d8ceef84-11d3-47d7-d833-6960011328a8"
      },
      "source": [
        "# A 확인\n",
        "A.head()"
      ],
      "execution_count": null,
      "outputs": [
        {
          "output_type": "execute_result",
          "data": {
            "text/html": [
              "<div>\n",
              "<style scoped>\n",
              "    .dataframe tbody tr th:only-of-type {\n",
              "        vertical-align: middle;\n",
              "    }\n",
              "\n",
              "    .dataframe tbody tr th {\n",
              "        vertical-align: top;\n",
              "    }\n",
              "\n",
              "    .dataframe thead th {\n",
              "        text-align: right;\n",
              "    }\n",
              "</style>\n",
              "<table border=\"1\" class=\"dataframe\">\n",
              "  <thead>\n",
              "    <tr style=\"text-align: right;\">\n",
              "      <th></th>\n",
              "      <th>STUDENT_ID</th>\n",
              "      <th>COLLEGE</th>\n",
              "      <th>MAJOR_NAME</th>\n",
              "      <th>CREDIT_1</th>\n",
              "      <th>CREDIT_2</th>\n",
              "      <th>GPA_1</th>\n",
              "      <th>GPA_2</th>\n",
              "      <th>EXTRA_ACTIVITY</th>\n",
              "      <th>COMPLETE_MAJOR</th>\n",
              "      <th>PF</th>\n",
              "      <th>AR_2016</th>\n",
              "      <th>AR_2017</th>\n",
              "      <th>AR_2018</th>\n",
              "      <th>AR_2019</th>\n",
              "      <th>EVERY_TIME</th>\n",
              "      <th>MAJOR_SCORE</th>\n",
              "    </tr>\n",
              "  </thead>\n",
              "  <tbody>\n",
              "    <tr>\n",
              "      <th>0</th>\n",
              "      <td>1</td>\n",
              "      <td>Art&amp;Design</td>\n",
              "      <td>동양화</td>\n",
              "      <td>18</td>\n",
              "      <td>12</td>\n",
              "      <td>4.2310</td>\n",
              "      <td>4.2098</td>\n",
              "      <td>300</td>\n",
              "      <td>1</td>\n",
              "      <td>1</td>\n",
              "      <td>15.35</td>\n",
              "      <td>19.85</td>\n",
              "      <td>14.4</td>\n",
              "      <td>10.5</td>\n",
              "      <td>0.111</td>\n",
              "      <td>965.750667</td>\n",
              "    </tr>\n",
              "    <tr>\n",
              "      <th>1</th>\n",
              "      <td>2</td>\n",
              "      <td>Art&amp;Design</td>\n",
              "      <td>동양화</td>\n",
              "      <td>18</td>\n",
              "      <td>18</td>\n",
              "      <td>4.1486</td>\n",
              "      <td>4.1206</td>\n",
              "      <td>50</td>\n",
              "      <td>1</td>\n",
              "      <td>1</td>\n",
              "      <td>15.35</td>\n",
              "      <td>19.85</td>\n",
              "      <td>14.4</td>\n",
              "      <td>10.5</td>\n",
              "      <td>0.111</td>\n",
              "      <td>737.820000</td>\n",
              "    </tr>\n",
              "    <tr>\n",
              "      <th>2</th>\n",
              "      <td>3</td>\n",
              "      <td>Art&amp;Design</td>\n",
              "      <td>동양화</td>\n",
              "      <td>18</td>\n",
              "      <td>15</td>\n",
              "      <td>4.1206</td>\n",
              "      <td>4.1066</td>\n",
              "      <td>300</td>\n",
              "      <td>1</td>\n",
              "      <td>1</td>\n",
              "      <td>15.35</td>\n",
              "      <td>19.85</td>\n",
              "      <td>14.4</td>\n",
              "      <td>10.5</td>\n",
              "      <td>0.111</td>\n",
              "      <td>974.641212</td>\n",
              "    </tr>\n",
              "    <tr>\n",
              "      <th>3</th>\n",
              "      <td>4</td>\n",
              "      <td>Art&amp;Design</td>\n",
              "      <td>동양화</td>\n",
              "      <td>18</td>\n",
              "      <td>18</td>\n",
              "      <td>4.1021</td>\n",
              "      <td>4.0617</td>\n",
              "      <td>300</td>\n",
              "      <td>0</td>\n",
              "      <td>1</td>\n",
              "      <td>15.35</td>\n",
              "      <td>19.85</td>\n",
              "      <td>14.4</td>\n",
              "      <td>10.5</td>\n",
              "      <td>0.111</td>\n",
              "      <td>586.063333</td>\n",
              "    </tr>\n",
              "    <tr>\n",
              "      <th>4</th>\n",
              "      <td>5</td>\n",
              "      <td>Art&amp;Design</td>\n",
              "      <td>동양화</td>\n",
              "      <td>18</td>\n",
              "      <td>18</td>\n",
              "      <td>4.0589</td>\n",
              "      <td>4.0509</td>\n",
              "      <td>200</td>\n",
              "      <td>1</td>\n",
              "      <td>1</td>\n",
              "      <td>15.35</td>\n",
              "      <td>19.85</td>\n",
              "      <td>14.4</td>\n",
              "      <td>10.5</td>\n",
              "      <td>0.111</td>\n",
              "      <td>885.163333</td>\n",
              "    </tr>\n",
              "  </tbody>\n",
              "</table>\n",
              "</div>"
            ],
            "text/plain": [
              "   STUDENT_ID     COLLEGE MAJOR_NAME  CREDIT_1  CREDIT_2   GPA_1   GPA_2  \\\n",
              "0           1  Art&Design        동양화        18        12  4.2310  4.2098   \n",
              "1           2  Art&Design        동양화        18        18  4.1486  4.1206   \n",
              "2           3  Art&Design        동양화        18        15  4.1206  4.1066   \n",
              "3           4  Art&Design        동양화        18        18  4.1021  4.0617   \n",
              "4           5  Art&Design        동양화        18        18  4.0589  4.0509   \n",
              "\n",
              "   EXTRA_ACTIVITY  COMPLETE_MAJOR  PF  AR_2016  AR_2017  AR_2018  AR_2019  \\\n",
              "0             300               1   1    15.35    19.85     14.4     10.5   \n",
              "1              50               1   1    15.35    19.85     14.4     10.5   \n",
              "2             300               1   1    15.35    19.85     14.4     10.5   \n",
              "3             300               0   1    15.35    19.85     14.4     10.5   \n",
              "4             200               1   1    15.35    19.85     14.4     10.5   \n",
              "\n",
              "   EVERY_TIME  MAJOR_SCORE  \n",
              "0       0.111   965.750667  \n",
              "1       0.111   737.820000  \n",
              "2       0.111   974.641212  \n",
              "3       0.111   586.063333  \n",
              "4       0.111   885.163333  "
            ]
          },
          "metadata": {
            "tags": []
          },
          "execution_count": 194
        }
      ]
    },
    {
      "cell_type": "code",
      "metadata": {
        "id": "Lqcon4byyRcX",
        "colab_type": "code",
        "colab": {
          "base_uri": "https://localhost:8080/",
          "height": 222
        },
        "outputId": "eb32eb33-f214-4405-8e19-0c2c2a879ae1"
      },
      "source": [
        "# B 확인\n",
        "B.head()"
      ],
      "execution_count": null,
      "outputs": [
        {
          "output_type": "execute_result",
          "data": {
            "text/html": [
              "<div>\n",
              "<style scoped>\n",
              "    .dataframe tbody tr th:only-of-type {\n",
              "        vertical-align: middle;\n",
              "    }\n",
              "\n",
              "    .dataframe tbody tr th {\n",
              "        vertical-align: top;\n",
              "    }\n",
              "\n",
              "    .dataframe thead th {\n",
              "        text-align: right;\n",
              "    }\n",
              "</style>\n",
              "<table border=\"1\" class=\"dataframe\">\n",
              "  <thead>\n",
              "    <tr style=\"text-align: right;\">\n",
              "      <th></th>\n",
              "      <th>STUDENT_ID</th>\n",
              "      <th>COLLEGE</th>\n",
              "      <th>MAJOR_NAME</th>\n",
              "      <th>CREDIT_1</th>\n",
              "      <th>CREDIT_2</th>\n",
              "      <th>GPA_1</th>\n",
              "      <th>GPA_2</th>\n",
              "      <th>EXTRA_ACTIVITY</th>\n",
              "      <th>COMPLETE_MAJOR</th>\n",
              "      <th>PF</th>\n",
              "      <th>AR_2016</th>\n",
              "      <th>AR_2017</th>\n",
              "      <th>AR_2018</th>\n",
              "      <th>AR_2019</th>\n",
              "      <th>EVERY_TIME</th>\n",
              "      <th>MAJOR_SCORE</th>\n",
              "    </tr>\n",
              "  </thead>\n",
              "  <tbody>\n",
              "    <tr>\n",
              "      <th>0</th>\n",
              "      <td>1</td>\n",
              "      <td>Art&amp;Design</td>\n",
              "      <td>동양화</td>\n",
              "      <td>18</td>\n",
              "      <td>12</td>\n",
              "      <td>4.2310</td>\n",
              "      <td>4.2098</td>\n",
              "      <td>300</td>\n",
              "      <td>1</td>\n",
              "      <td>1</td>\n",
              "      <td>15.35</td>\n",
              "      <td>19.85</td>\n",
              "      <td>14.4</td>\n",
              "      <td>10.5</td>\n",
              "      <td>0.111</td>\n",
              "      <td>965.750667</td>\n",
              "    </tr>\n",
              "    <tr>\n",
              "      <th>1</th>\n",
              "      <td>2</td>\n",
              "      <td>Art&amp;Design</td>\n",
              "      <td>동양화</td>\n",
              "      <td>18</td>\n",
              "      <td>18</td>\n",
              "      <td>4.1486</td>\n",
              "      <td>4.1206</td>\n",
              "      <td>50</td>\n",
              "      <td>1</td>\n",
              "      <td>1</td>\n",
              "      <td>15.35</td>\n",
              "      <td>19.85</td>\n",
              "      <td>14.4</td>\n",
              "      <td>10.5</td>\n",
              "      <td>0.111</td>\n",
              "      <td>737.820000</td>\n",
              "    </tr>\n",
              "    <tr>\n",
              "      <th>2</th>\n",
              "      <td>3</td>\n",
              "      <td>Art&amp;Design</td>\n",
              "      <td>동양화</td>\n",
              "      <td>18</td>\n",
              "      <td>15</td>\n",
              "      <td>4.1206</td>\n",
              "      <td>4.1066</td>\n",
              "      <td>300</td>\n",
              "      <td>1</td>\n",
              "      <td>1</td>\n",
              "      <td>15.35</td>\n",
              "      <td>19.85</td>\n",
              "      <td>14.4</td>\n",
              "      <td>10.5</td>\n",
              "      <td>0.111</td>\n",
              "      <td>974.641212</td>\n",
              "    </tr>\n",
              "    <tr>\n",
              "      <th>3</th>\n",
              "      <td>4</td>\n",
              "      <td>Art&amp;Design</td>\n",
              "      <td>동양화</td>\n",
              "      <td>18</td>\n",
              "      <td>18</td>\n",
              "      <td>4.1021</td>\n",
              "      <td>4.0617</td>\n",
              "      <td>300</td>\n",
              "      <td>0</td>\n",
              "      <td>1</td>\n",
              "      <td>15.35</td>\n",
              "      <td>19.85</td>\n",
              "      <td>14.4</td>\n",
              "      <td>10.5</td>\n",
              "      <td>0.111</td>\n",
              "      <td>586.063333</td>\n",
              "    </tr>\n",
              "    <tr>\n",
              "      <th>4</th>\n",
              "      <td>5</td>\n",
              "      <td>Art&amp;Design</td>\n",
              "      <td>동양화</td>\n",
              "      <td>18</td>\n",
              "      <td>18</td>\n",
              "      <td>4.0589</td>\n",
              "      <td>4.0509</td>\n",
              "      <td>200</td>\n",
              "      <td>1</td>\n",
              "      <td>1</td>\n",
              "      <td>15.35</td>\n",
              "      <td>19.85</td>\n",
              "      <td>14.4</td>\n",
              "      <td>10.5</td>\n",
              "      <td>0.111</td>\n",
              "      <td>885.163333</td>\n",
              "    </tr>\n",
              "  </tbody>\n",
              "</table>\n",
              "</div>"
            ],
            "text/plain": [
              "   STUDENT_ID     COLLEGE MAJOR_NAME  CREDIT_1  CREDIT_2   GPA_1   GPA_2  \\\n",
              "0           1  Art&Design        동양화        18        12  4.2310  4.2098   \n",
              "1           2  Art&Design        동양화        18        18  4.1486  4.1206   \n",
              "2           3  Art&Design        동양화        18        15  4.1206  4.1066   \n",
              "3           4  Art&Design        동양화        18        18  4.1021  4.0617   \n",
              "4           5  Art&Design        동양화        18        18  4.0589  4.0509   \n",
              "\n",
              "   EXTRA_ACTIVITY  COMPLETE_MAJOR  PF  AR_2016  AR_2017  AR_2018  AR_2019  \\\n",
              "0             300               1   1    15.35    19.85     14.4     10.5   \n",
              "1              50               1   1    15.35    19.85     14.4     10.5   \n",
              "2             300               1   1    15.35    19.85     14.4     10.5   \n",
              "3             300               0   1    15.35    19.85     14.4     10.5   \n",
              "4             200               1   1    15.35    19.85     14.4     10.5   \n",
              "\n",
              "   EVERY_TIME  MAJOR_SCORE  \n",
              "0       0.111   965.750667  \n",
              "1       0.111   737.820000  \n",
              "2       0.111   974.641212  \n",
              "3       0.111   586.063333  \n",
              "4       0.111   885.163333  "
            ]
          },
          "metadata": {
            "tags": []
          },
          "execution_count": 195
        }
      ]
    },
    {
      "cell_type": "markdown",
      "metadata": {
        "id": "4Gij280vz1_6",
        "colab_type": "text"
      },
      "source": [
        "A : 모든 column 포함\n",
        "\n",
        "B : 사용자가 알지 못하는 정보인 'GPA_2' column 제외한 모든 column 포함"
      ]
    },
    {
      "cell_type": "code",
      "metadata": {
        "id": "E3EB1BX3yYWo",
        "colab_type": "code",
        "colab": {}
      },
      "source": [
        "# B에서 'GPA_2' column 삭제\n",
        "del B['GPA_2']"
      ],
      "execution_count": null,
      "outputs": []
    },
    {
      "cell_type": "code",
      "metadata": {
        "id": "qzk1Z299yjds",
        "colab_type": "code",
        "colab": {
          "base_uri": "https://localhost:8080/",
          "height": 222
        },
        "outputId": "7f8df886-71d7-4a56-bb88-450d0da74f65"
      },
      "source": [
        "# B에서 column 삭제 확인\n",
        "B.head()"
      ],
      "execution_count": null,
      "outputs": [
        {
          "output_type": "execute_result",
          "data": {
            "text/html": [
              "<div>\n",
              "<style scoped>\n",
              "    .dataframe tbody tr th:only-of-type {\n",
              "        vertical-align: middle;\n",
              "    }\n",
              "\n",
              "    .dataframe tbody tr th {\n",
              "        vertical-align: top;\n",
              "    }\n",
              "\n",
              "    .dataframe thead th {\n",
              "        text-align: right;\n",
              "    }\n",
              "</style>\n",
              "<table border=\"1\" class=\"dataframe\">\n",
              "  <thead>\n",
              "    <tr style=\"text-align: right;\">\n",
              "      <th></th>\n",
              "      <th>STUDENT_ID</th>\n",
              "      <th>COLLEGE</th>\n",
              "      <th>MAJOR_NAME</th>\n",
              "      <th>CREDIT_1</th>\n",
              "      <th>CREDIT_2</th>\n",
              "      <th>GPA_1</th>\n",
              "      <th>EXTRA_ACTIVITY</th>\n",
              "      <th>COMPLETE_MAJOR</th>\n",
              "      <th>PF</th>\n",
              "      <th>AR_2016</th>\n",
              "      <th>AR_2017</th>\n",
              "      <th>AR_2018</th>\n",
              "      <th>AR_2019</th>\n",
              "      <th>EVERY_TIME</th>\n",
              "      <th>MAJOR_SCORE</th>\n",
              "    </tr>\n",
              "  </thead>\n",
              "  <tbody>\n",
              "    <tr>\n",
              "      <th>0</th>\n",
              "      <td>1</td>\n",
              "      <td>Art&amp;Design</td>\n",
              "      <td>동양화</td>\n",
              "      <td>18</td>\n",
              "      <td>12</td>\n",
              "      <td>4.2310</td>\n",
              "      <td>300</td>\n",
              "      <td>1</td>\n",
              "      <td>1</td>\n",
              "      <td>15.35</td>\n",
              "      <td>19.85</td>\n",
              "      <td>14.4</td>\n",
              "      <td>10.5</td>\n",
              "      <td>0.111</td>\n",
              "      <td>965.750667</td>\n",
              "    </tr>\n",
              "    <tr>\n",
              "      <th>1</th>\n",
              "      <td>2</td>\n",
              "      <td>Art&amp;Design</td>\n",
              "      <td>동양화</td>\n",
              "      <td>18</td>\n",
              "      <td>18</td>\n",
              "      <td>4.1486</td>\n",
              "      <td>50</td>\n",
              "      <td>1</td>\n",
              "      <td>1</td>\n",
              "      <td>15.35</td>\n",
              "      <td>19.85</td>\n",
              "      <td>14.4</td>\n",
              "      <td>10.5</td>\n",
              "      <td>0.111</td>\n",
              "      <td>737.820000</td>\n",
              "    </tr>\n",
              "    <tr>\n",
              "      <th>2</th>\n",
              "      <td>3</td>\n",
              "      <td>Art&amp;Design</td>\n",
              "      <td>동양화</td>\n",
              "      <td>18</td>\n",
              "      <td>15</td>\n",
              "      <td>4.1206</td>\n",
              "      <td>300</td>\n",
              "      <td>1</td>\n",
              "      <td>1</td>\n",
              "      <td>15.35</td>\n",
              "      <td>19.85</td>\n",
              "      <td>14.4</td>\n",
              "      <td>10.5</td>\n",
              "      <td>0.111</td>\n",
              "      <td>974.641212</td>\n",
              "    </tr>\n",
              "    <tr>\n",
              "      <th>3</th>\n",
              "      <td>4</td>\n",
              "      <td>Art&amp;Design</td>\n",
              "      <td>동양화</td>\n",
              "      <td>18</td>\n",
              "      <td>18</td>\n",
              "      <td>4.1021</td>\n",
              "      <td>300</td>\n",
              "      <td>0</td>\n",
              "      <td>1</td>\n",
              "      <td>15.35</td>\n",
              "      <td>19.85</td>\n",
              "      <td>14.4</td>\n",
              "      <td>10.5</td>\n",
              "      <td>0.111</td>\n",
              "      <td>586.063333</td>\n",
              "    </tr>\n",
              "    <tr>\n",
              "      <th>4</th>\n",
              "      <td>5</td>\n",
              "      <td>Art&amp;Design</td>\n",
              "      <td>동양화</td>\n",
              "      <td>18</td>\n",
              "      <td>18</td>\n",
              "      <td>4.0589</td>\n",
              "      <td>200</td>\n",
              "      <td>1</td>\n",
              "      <td>1</td>\n",
              "      <td>15.35</td>\n",
              "      <td>19.85</td>\n",
              "      <td>14.4</td>\n",
              "      <td>10.5</td>\n",
              "      <td>0.111</td>\n",
              "      <td>885.163333</td>\n",
              "    </tr>\n",
              "  </tbody>\n",
              "</table>\n",
              "</div>"
            ],
            "text/plain": [
              "   STUDENT_ID     COLLEGE MAJOR_NAME  CREDIT_1  CREDIT_2   GPA_1  \\\n",
              "0           1  Art&Design        동양화        18        12  4.2310   \n",
              "1           2  Art&Design        동양화        18        18  4.1486   \n",
              "2           3  Art&Design        동양화        18        15  4.1206   \n",
              "3           4  Art&Design        동양화        18        18  4.1021   \n",
              "4           5  Art&Design        동양화        18        18  4.0589   \n",
              "\n",
              "   EXTRA_ACTIVITY  COMPLETE_MAJOR  PF  AR_2016  AR_2017  AR_2018  AR_2019  \\\n",
              "0             300               1   1    15.35    19.85     14.4     10.5   \n",
              "1              50               1   1    15.35    19.85     14.4     10.5   \n",
              "2             300               1   1    15.35    19.85     14.4     10.5   \n",
              "3             300               0   1    15.35    19.85     14.4     10.5   \n",
              "4             200               1   1    15.35    19.85     14.4     10.5   \n",
              "\n",
              "   EVERY_TIME  MAJOR_SCORE  \n",
              "0       0.111   965.750667  \n",
              "1       0.111   737.820000  \n",
              "2       0.111   974.641212  \n",
              "3       0.111   586.063333  \n",
              "4       0.111   885.163333  "
            ]
          },
          "metadata": {
            "tags": []
          },
          "execution_count": 197
        }
      ]
    },
    {
      "cell_type": "code",
      "metadata": {
        "id": "tA-HD0AUyk4E",
        "colab_type": "code",
        "colab": {}
      },
      "source": [
        "# A, B csv 파일로 저장\n",
        "A.to_csv(\"dataframe_A.csv\", index=False)\n",
        "B.to_csv(\"dataframe_B.csv\", index=False)"
      ],
      "execution_count": null,
      "outputs": []
    },
    {
      "cell_type": "markdown",
      "metadata": {
        "id": "YaFFCHaD0sHr",
        "colab_type": "text"
      },
      "source": [
        "## 3) 데이터 수정"
      ]
    },
    {
      "cell_type": "code",
      "metadata": {
        "id": "ozGXjKuN0x52",
        "colab_type": "code",
        "colab": {}
      },
      "source": [
        "# 데이터 불러오기\n",
        "df_a = pd.read_csv(\"dataframe_A.csv\")\n",
        "df_b = pd.read_csv(\"dataframe_B.csv\")"
      ],
      "execution_count": null,
      "outputs": []
    },
    {
      "cell_type": "code",
      "metadata": {
        "id": "QrpyD2jg04Ez",
        "colab_type": "code",
        "colab": {
          "base_uri": "https://localhost:8080/",
          "height": 222
        },
        "outputId": "39438c1a-5407-4e13-c477-4790ee64cec2"
      },
      "source": [
        "# df_a 확인\n",
        "df_a.head()"
      ],
      "execution_count": null,
      "outputs": [
        {
          "output_type": "execute_result",
          "data": {
            "text/html": [
              "<div>\n",
              "<style scoped>\n",
              "    .dataframe tbody tr th:only-of-type {\n",
              "        vertical-align: middle;\n",
              "    }\n",
              "\n",
              "    .dataframe tbody tr th {\n",
              "        vertical-align: top;\n",
              "    }\n",
              "\n",
              "    .dataframe thead th {\n",
              "        text-align: right;\n",
              "    }\n",
              "</style>\n",
              "<table border=\"1\" class=\"dataframe\">\n",
              "  <thead>\n",
              "    <tr style=\"text-align: right;\">\n",
              "      <th></th>\n",
              "      <th>STUDENT_ID</th>\n",
              "      <th>COLLEGE</th>\n",
              "      <th>MAJOR_NAME</th>\n",
              "      <th>CREDIT_1</th>\n",
              "      <th>CREDIT_2</th>\n",
              "      <th>GPA_1</th>\n",
              "      <th>GPA_2</th>\n",
              "      <th>EXTRA_ACTIVITY</th>\n",
              "      <th>COMPLETE_MAJOR</th>\n",
              "      <th>PF</th>\n",
              "      <th>AR_2016</th>\n",
              "      <th>AR_2017</th>\n",
              "      <th>AR_2018</th>\n",
              "      <th>AR_2019</th>\n",
              "      <th>EVERY_TIME</th>\n",
              "      <th>MAJOR_SCORE</th>\n",
              "    </tr>\n",
              "  </thead>\n",
              "  <tbody>\n",
              "    <tr>\n",
              "      <th>0</th>\n",
              "      <td>1</td>\n",
              "      <td>Art&amp;Design</td>\n",
              "      <td>동양화</td>\n",
              "      <td>18</td>\n",
              "      <td>12</td>\n",
              "      <td>4.2310</td>\n",
              "      <td>4.2098</td>\n",
              "      <td>300</td>\n",
              "      <td>1</td>\n",
              "      <td>1</td>\n",
              "      <td>15.35</td>\n",
              "      <td>19.85</td>\n",
              "      <td>14.4</td>\n",
              "      <td>10.5</td>\n",
              "      <td>0.111</td>\n",
              "      <td>965.750667</td>\n",
              "    </tr>\n",
              "    <tr>\n",
              "      <th>1</th>\n",
              "      <td>2</td>\n",
              "      <td>Art&amp;Design</td>\n",
              "      <td>동양화</td>\n",
              "      <td>18</td>\n",
              "      <td>18</td>\n",
              "      <td>4.1486</td>\n",
              "      <td>4.1206</td>\n",
              "      <td>50</td>\n",
              "      <td>1</td>\n",
              "      <td>1</td>\n",
              "      <td>15.35</td>\n",
              "      <td>19.85</td>\n",
              "      <td>14.4</td>\n",
              "      <td>10.5</td>\n",
              "      <td>0.111</td>\n",
              "      <td>737.820000</td>\n",
              "    </tr>\n",
              "    <tr>\n",
              "      <th>2</th>\n",
              "      <td>3</td>\n",
              "      <td>Art&amp;Design</td>\n",
              "      <td>동양화</td>\n",
              "      <td>18</td>\n",
              "      <td>15</td>\n",
              "      <td>4.1206</td>\n",
              "      <td>4.1066</td>\n",
              "      <td>300</td>\n",
              "      <td>1</td>\n",
              "      <td>1</td>\n",
              "      <td>15.35</td>\n",
              "      <td>19.85</td>\n",
              "      <td>14.4</td>\n",
              "      <td>10.5</td>\n",
              "      <td>0.111</td>\n",
              "      <td>974.641212</td>\n",
              "    </tr>\n",
              "    <tr>\n",
              "      <th>3</th>\n",
              "      <td>4</td>\n",
              "      <td>Art&amp;Design</td>\n",
              "      <td>동양화</td>\n",
              "      <td>18</td>\n",
              "      <td>18</td>\n",
              "      <td>4.1021</td>\n",
              "      <td>4.0617</td>\n",
              "      <td>300</td>\n",
              "      <td>0</td>\n",
              "      <td>1</td>\n",
              "      <td>15.35</td>\n",
              "      <td>19.85</td>\n",
              "      <td>14.4</td>\n",
              "      <td>10.5</td>\n",
              "      <td>0.111</td>\n",
              "      <td>586.063333</td>\n",
              "    </tr>\n",
              "    <tr>\n",
              "      <th>4</th>\n",
              "      <td>5</td>\n",
              "      <td>Art&amp;Design</td>\n",
              "      <td>동양화</td>\n",
              "      <td>18</td>\n",
              "      <td>18</td>\n",
              "      <td>4.0589</td>\n",
              "      <td>4.0509</td>\n",
              "      <td>200</td>\n",
              "      <td>1</td>\n",
              "      <td>1</td>\n",
              "      <td>15.35</td>\n",
              "      <td>19.85</td>\n",
              "      <td>14.4</td>\n",
              "      <td>10.5</td>\n",
              "      <td>0.111</td>\n",
              "      <td>885.163333</td>\n",
              "    </tr>\n",
              "  </tbody>\n",
              "</table>\n",
              "</div>"
            ],
            "text/plain": [
              "   STUDENT_ID     COLLEGE MAJOR_NAME  CREDIT_1  CREDIT_2   GPA_1   GPA_2  \\\n",
              "0           1  Art&Design        동양화        18        12  4.2310  4.2098   \n",
              "1           2  Art&Design        동양화        18        18  4.1486  4.1206   \n",
              "2           3  Art&Design        동양화        18        15  4.1206  4.1066   \n",
              "3           4  Art&Design        동양화        18        18  4.1021  4.0617   \n",
              "4           5  Art&Design        동양화        18        18  4.0589  4.0509   \n",
              "\n",
              "   EXTRA_ACTIVITY  COMPLETE_MAJOR  PF  AR_2016  AR_2017  AR_2018  AR_2019  \\\n",
              "0             300               1   1    15.35    19.85     14.4     10.5   \n",
              "1              50               1   1    15.35    19.85     14.4     10.5   \n",
              "2             300               1   1    15.35    19.85     14.4     10.5   \n",
              "3             300               0   1    15.35    19.85     14.4     10.5   \n",
              "4             200               1   1    15.35    19.85     14.4     10.5   \n",
              "\n",
              "   EVERY_TIME  MAJOR_SCORE  \n",
              "0       0.111   965.750667  \n",
              "1       0.111   737.820000  \n",
              "2       0.111   974.641212  \n",
              "3       0.111   586.063333  \n",
              "4       0.111   885.163333  "
            ]
          },
          "metadata": {
            "tags": []
          },
          "execution_count": 200
        }
      ]
    },
    {
      "cell_type": "code",
      "metadata": {
        "id": "JQVgxKra084X",
        "colab_type": "code",
        "colab": {
          "base_uri": "https://localhost:8080/",
          "height": 222
        },
        "outputId": "d3aa2ea3-0cc7-4ddf-c151-63df036cdca4"
      },
      "source": [
        "# df_b 확인\n",
        "df_b.head()"
      ],
      "execution_count": null,
      "outputs": [
        {
          "output_type": "execute_result",
          "data": {
            "text/html": [
              "<div>\n",
              "<style scoped>\n",
              "    .dataframe tbody tr th:only-of-type {\n",
              "        vertical-align: middle;\n",
              "    }\n",
              "\n",
              "    .dataframe tbody tr th {\n",
              "        vertical-align: top;\n",
              "    }\n",
              "\n",
              "    .dataframe thead th {\n",
              "        text-align: right;\n",
              "    }\n",
              "</style>\n",
              "<table border=\"1\" class=\"dataframe\">\n",
              "  <thead>\n",
              "    <tr style=\"text-align: right;\">\n",
              "      <th></th>\n",
              "      <th>STUDENT_ID</th>\n",
              "      <th>COLLEGE</th>\n",
              "      <th>MAJOR_NAME</th>\n",
              "      <th>CREDIT_1</th>\n",
              "      <th>CREDIT_2</th>\n",
              "      <th>GPA_1</th>\n",
              "      <th>EXTRA_ACTIVITY</th>\n",
              "      <th>COMPLETE_MAJOR</th>\n",
              "      <th>PF</th>\n",
              "      <th>AR_2016</th>\n",
              "      <th>AR_2017</th>\n",
              "      <th>AR_2018</th>\n",
              "      <th>AR_2019</th>\n",
              "      <th>EVERY_TIME</th>\n",
              "      <th>MAJOR_SCORE</th>\n",
              "    </tr>\n",
              "  </thead>\n",
              "  <tbody>\n",
              "    <tr>\n",
              "      <th>0</th>\n",
              "      <td>1</td>\n",
              "      <td>Art&amp;Design</td>\n",
              "      <td>동양화</td>\n",
              "      <td>18</td>\n",
              "      <td>12</td>\n",
              "      <td>4.2310</td>\n",
              "      <td>300</td>\n",
              "      <td>1</td>\n",
              "      <td>1</td>\n",
              "      <td>15.35</td>\n",
              "      <td>19.85</td>\n",
              "      <td>14.4</td>\n",
              "      <td>10.5</td>\n",
              "      <td>0.111</td>\n",
              "      <td>965.750667</td>\n",
              "    </tr>\n",
              "    <tr>\n",
              "      <th>1</th>\n",
              "      <td>2</td>\n",
              "      <td>Art&amp;Design</td>\n",
              "      <td>동양화</td>\n",
              "      <td>18</td>\n",
              "      <td>18</td>\n",
              "      <td>4.1486</td>\n",
              "      <td>50</td>\n",
              "      <td>1</td>\n",
              "      <td>1</td>\n",
              "      <td>15.35</td>\n",
              "      <td>19.85</td>\n",
              "      <td>14.4</td>\n",
              "      <td>10.5</td>\n",
              "      <td>0.111</td>\n",
              "      <td>737.820000</td>\n",
              "    </tr>\n",
              "    <tr>\n",
              "      <th>2</th>\n",
              "      <td>3</td>\n",
              "      <td>Art&amp;Design</td>\n",
              "      <td>동양화</td>\n",
              "      <td>18</td>\n",
              "      <td>15</td>\n",
              "      <td>4.1206</td>\n",
              "      <td>300</td>\n",
              "      <td>1</td>\n",
              "      <td>1</td>\n",
              "      <td>15.35</td>\n",
              "      <td>19.85</td>\n",
              "      <td>14.4</td>\n",
              "      <td>10.5</td>\n",
              "      <td>0.111</td>\n",
              "      <td>974.641212</td>\n",
              "    </tr>\n",
              "    <tr>\n",
              "      <th>3</th>\n",
              "      <td>4</td>\n",
              "      <td>Art&amp;Design</td>\n",
              "      <td>동양화</td>\n",
              "      <td>18</td>\n",
              "      <td>18</td>\n",
              "      <td>4.1021</td>\n",
              "      <td>300</td>\n",
              "      <td>0</td>\n",
              "      <td>1</td>\n",
              "      <td>15.35</td>\n",
              "      <td>19.85</td>\n",
              "      <td>14.4</td>\n",
              "      <td>10.5</td>\n",
              "      <td>0.111</td>\n",
              "      <td>586.063333</td>\n",
              "    </tr>\n",
              "    <tr>\n",
              "      <th>4</th>\n",
              "      <td>5</td>\n",
              "      <td>Art&amp;Design</td>\n",
              "      <td>동양화</td>\n",
              "      <td>18</td>\n",
              "      <td>18</td>\n",
              "      <td>4.0589</td>\n",
              "      <td>200</td>\n",
              "      <td>1</td>\n",
              "      <td>1</td>\n",
              "      <td>15.35</td>\n",
              "      <td>19.85</td>\n",
              "      <td>14.4</td>\n",
              "      <td>10.5</td>\n",
              "      <td>0.111</td>\n",
              "      <td>885.163333</td>\n",
              "    </tr>\n",
              "  </tbody>\n",
              "</table>\n",
              "</div>"
            ],
            "text/plain": [
              "   STUDENT_ID     COLLEGE MAJOR_NAME  CREDIT_1  CREDIT_2   GPA_1  \\\n",
              "0           1  Art&Design        동양화        18        12  4.2310   \n",
              "1           2  Art&Design        동양화        18        18  4.1486   \n",
              "2           3  Art&Design        동양화        18        15  4.1206   \n",
              "3           4  Art&Design        동양화        18        18  4.1021   \n",
              "4           5  Art&Design        동양화        18        18  4.0589   \n",
              "\n",
              "   EXTRA_ACTIVITY  COMPLETE_MAJOR  PF  AR_2016  AR_2017  AR_2018  AR_2019  \\\n",
              "0             300               1   1    15.35    19.85     14.4     10.5   \n",
              "1              50               1   1    15.35    19.85     14.4     10.5   \n",
              "2             300               1   1    15.35    19.85     14.4     10.5   \n",
              "3             300               0   1    15.35    19.85     14.4     10.5   \n",
              "4             200               1   1    15.35    19.85     14.4     10.5   \n",
              "\n",
              "   EVERY_TIME  MAJOR_SCORE  \n",
              "0       0.111   965.750667  \n",
              "1       0.111   737.820000  \n",
              "2       0.111   974.641212  \n",
              "3       0.111   586.063333  \n",
              "4       0.111   885.163333  "
            ]
          },
          "metadata": {
            "tags": []
          },
          "execution_count": 201
        }
      ]
    },
    {
      "cell_type": "markdown",
      "metadata": {
        "id": "cqM3asq01bHK",
        "colab_type": "text"
      },
      "source": [
        "전공명으로 알 수 있는 column 'COLLEGE', 사용하지 않을 column 'STUDENT_ID', 'MAJOR_NAME' 제거"
      ]
    },
    {
      "cell_type": "code",
      "metadata": {
        "id": "LPOWNOCk1AeS",
        "colab_type": "code",
        "colab": {}
      },
      "source": [
        "# 'STUDENT_ID', 'COLLEGE', 'MAJOR_NAME' column 제거\n",
        "df_a = df_a.drop(columns=['STUDENT_ID', 'COLLEGE', 'MAJOR_NAME'])\n",
        "df_b = df_b.drop(columns=['STUDENT_ID', 'COLLEGE', 'MAJOR_NAME'])"
      ],
      "execution_count": null,
      "outputs": []
    },
    {
      "cell_type": "code",
      "metadata": {
        "id": "vK-HqKnV1aOW",
        "colab_type": "code",
        "colab": {
          "base_uri": "https://localhost:8080/",
          "height": 222
        },
        "outputId": "e2dfab86-71ee-4675-9828-c10ab8afffc6"
      },
      "source": [
        "# df_a 확인\n",
        "df_a.head()"
      ],
      "execution_count": null,
      "outputs": [
        {
          "output_type": "execute_result",
          "data": {
            "text/html": [
              "<div>\n",
              "<style scoped>\n",
              "    .dataframe tbody tr th:only-of-type {\n",
              "        vertical-align: middle;\n",
              "    }\n",
              "\n",
              "    .dataframe tbody tr th {\n",
              "        vertical-align: top;\n",
              "    }\n",
              "\n",
              "    .dataframe thead th {\n",
              "        text-align: right;\n",
              "    }\n",
              "</style>\n",
              "<table border=\"1\" class=\"dataframe\">\n",
              "  <thead>\n",
              "    <tr style=\"text-align: right;\">\n",
              "      <th></th>\n",
              "      <th>CREDIT_1</th>\n",
              "      <th>CREDIT_2</th>\n",
              "      <th>GPA_1</th>\n",
              "      <th>GPA_2</th>\n",
              "      <th>EXTRA_ACTIVITY</th>\n",
              "      <th>COMPLETE_MAJOR</th>\n",
              "      <th>PF</th>\n",
              "      <th>AR_2016</th>\n",
              "      <th>AR_2017</th>\n",
              "      <th>AR_2018</th>\n",
              "      <th>AR_2019</th>\n",
              "      <th>EVERY_TIME</th>\n",
              "      <th>MAJOR_SCORE</th>\n",
              "    </tr>\n",
              "  </thead>\n",
              "  <tbody>\n",
              "    <tr>\n",
              "      <th>0</th>\n",
              "      <td>18</td>\n",
              "      <td>12</td>\n",
              "      <td>4.2310</td>\n",
              "      <td>4.2098</td>\n",
              "      <td>300</td>\n",
              "      <td>1</td>\n",
              "      <td>1</td>\n",
              "      <td>15.35</td>\n",
              "      <td>19.85</td>\n",
              "      <td>14.4</td>\n",
              "      <td>10.5</td>\n",
              "      <td>0.111</td>\n",
              "      <td>965.750667</td>\n",
              "    </tr>\n",
              "    <tr>\n",
              "      <th>1</th>\n",
              "      <td>18</td>\n",
              "      <td>18</td>\n",
              "      <td>4.1486</td>\n",
              "      <td>4.1206</td>\n",
              "      <td>50</td>\n",
              "      <td>1</td>\n",
              "      <td>1</td>\n",
              "      <td>15.35</td>\n",
              "      <td>19.85</td>\n",
              "      <td>14.4</td>\n",
              "      <td>10.5</td>\n",
              "      <td>0.111</td>\n",
              "      <td>737.820000</td>\n",
              "    </tr>\n",
              "    <tr>\n",
              "      <th>2</th>\n",
              "      <td>18</td>\n",
              "      <td>15</td>\n",
              "      <td>4.1206</td>\n",
              "      <td>4.1066</td>\n",
              "      <td>300</td>\n",
              "      <td>1</td>\n",
              "      <td>1</td>\n",
              "      <td>15.35</td>\n",
              "      <td>19.85</td>\n",
              "      <td>14.4</td>\n",
              "      <td>10.5</td>\n",
              "      <td>0.111</td>\n",
              "      <td>974.641212</td>\n",
              "    </tr>\n",
              "    <tr>\n",
              "      <th>3</th>\n",
              "      <td>18</td>\n",
              "      <td>18</td>\n",
              "      <td>4.1021</td>\n",
              "      <td>4.0617</td>\n",
              "      <td>300</td>\n",
              "      <td>0</td>\n",
              "      <td>1</td>\n",
              "      <td>15.35</td>\n",
              "      <td>19.85</td>\n",
              "      <td>14.4</td>\n",
              "      <td>10.5</td>\n",
              "      <td>0.111</td>\n",
              "      <td>586.063333</td>\n",
              "    </tr>\n",
              "    <tr>\n",
              "      <th>4</th>\n",
              "      <td>18</td>\n",
              "      <td>18</td>\n",
              "      <td>4.0589</td>\n",
              "      <td>4.0509</td>\n",
              "      <td>200</td>\n",
              "      <td>1</td>\n",
              "      <td>1</td>\n",
              "      <td>15.35</td>\n",
              "      <td>19.85</td>\n",
              "      <td>14.4</td>\n",
              "      <td>10.5</td>\n",
              "      <td>0.111</td>\n",
              "      <td>885.163333</td>\n",
              "    </tr>\n",
              "  </tbody>\n",
              "</table>\n",
              "</div>"
            ],
            "text/plain": [
              "   CREDIT_1  CREDIT_2   GPA_1   GPA_2  EXTRA_ACTIVITY  COMPLETE_MAJOR  PF  \\\n",
              "0        18        12  4.2310  4.2098             300               1   1   \n",
              "1        18        18  4.1486  4.1206              50               1   1   \n",
              "2        18        15  4.1206  4.1066             300               1   1   \n",
              "3        18        18  4.1021  4.0617             300               0   1   \n",
              "4        18        18  4.0589  4.0509             200               1   1   \n",
              "\n",
              "   AR_2016  AR_2017  AR_2018  AR_2019  EVERY_TIME  MAJOR_SCORE  \n",
              "0    15.35    19.85     14.4     10.5       0.111   965.750667  \n",
              "1    15.35    19.85     14.4     10.5       0.111   737.820000  \n",
              "2    15.35    19.85     14.4     10.5       0.111   974.641212  \n",
              "3    15.35    19.85     14.4     10.5       0.111   586.063333  \n",
              "4    15.35    19.85     14.4     10.5       0.111   885.163333  "
            ]
          },
          "metadata": {
            "tags": []
          },
          "execution_count": 203
        }
      ]
    },
    {
      "cell_type": "code",
      "metadata": {
        "id": "dHS-u-im1j60",
        "colab_type": "code",
        "colab": {
          "base_uri": "https://localhost:8080/",
          "height": 222
        },
        "outputId": "5ecd1e43-53bc-43eb-a6c7-683cc67e1947"
      },
      "source": [
        "# df_b 확인\n",
        "df_b.head()"
      ],
      "execution_count": null,
      "outputs": [
        {
          "output_type": "execute_result",
          "data": {
            "text/html": [
              "<div>\n",
              "<style scoped>\n",
              "    .dataframe tbody tr th:only-of-type {\n",
              "        vertical-align: middle;\n",
              "    }\n",
              "\n",
              "    .dataframe tbody tr th {\n",
              "        vertical-align: top;\n",
              "    }\n",
              "\n",
              "    .dataframe thead th {\n",
              "        text-align: right;\n",
              "    }\n",
              "</style>\n",
              "<table border=\"1\" class=\"dataframe\">\n",
              "  <thead>\n",
              "    <tr style=\"text-align: right;\">\n",
              "      <th></th>\n",
              "      <th>CREDIT_1</th>\n",
              "      <th>CREDIT_2</th>\n",
              "      <th>GPA_1</th>\n",
              "      <th>EXTRA_ACTIVITY</th>\n",
              "      <th>COMPLETE_MAJOR</th>\n",
              "      <th>PF</th>\n",
              "      <th>AR_2016</th>\n",
              "      <th>AR_2017</th>\n",
              "      <th>AR_2018</th>\n",
              "      <th>AR_2019</th>\n",
              "      <th>EVERY_TIME</th>\n",
              "      <th>MAJOR_SCORE</th>\n",
              "    </tr>\n",
              "  </thead>\n",
              "  <tbody>\n",
              "    <tr>\n",
              "      <th>0</th>\n",
              "      <td>18</td>\n",
              "      <td>12</td>\n",
              "      <td>4.2310</td>\n",
              "      <td>300</td>\n",
              "      <td>1</td>\n",
              "      <td>1</td>\n",
              "      <td>15.35</td>\n",
              "      <td>19.85</td>\n",
              "      <td>14.4</td>\n",
              "      <td>10.5</td>\n",
              "      <td>0.111</td>\n",
              "      <td>965.750667</td>\n",
              "    </tr>\n",
              "    <tr>\n",
              "      <th>1</th>\n",
              "      <td>18</td>\n",
              "      <td>18</td>\n",
              "      <td>4.1486</td>\n",
              "      <td>50</td>\n",
              "      <td>1</td>\n",
              "      <td>1</td>\n",
              "      <td>15.35</td>\n",
              "      <td>19.85</td>\n",
              "      <td>14.4</td>\n",
              "      <td>10.5</td>\n",
              "      <td>0.111</td>\n",
              "      <td>737.820000</td>\n",
              "    </tr>\n",
              "    <tr>\n",
              "      <th>2</th>\n",
              "      <td>18</td>\n",
              "      <td>15</td>\n",
              "      <td>4.1206</td>\n",
              "      <td>300</td>\n",
              "      <td>1</td>\n",
              "      <td>1</td>\n",
              "      <td>15.35</td>\n",
              "      <td>19.85</td>\n",
              "      <td>14.4</td>\n",
              "      <td>10.5</td>\n",
              "      <td>0.111</td>\n",
              "      <td>974.641212</td>\n",
              "    </tr>\n",
              "    <tr>\n",
              "      <th>3</th>\n",
              "      <td>18</td>\n",
              "      <td>18</td>\n",
              "      <td>4.1021</td>\n",
              "      <td>300</td>\n",
              "      <td>0</td>\n",
              "      <td>1</td>\n",
              "      <td>15.35</td>\n",
              "      <td>19.85</td>\n",
              "      <td>14.4</td>\n",
              "      <td>10.5</td>\n",
              "      <td>0.111</td>\n",
              "      <td>586.063333</td>\n",
              "    </tr>\n",
              "    <tr>\n",
              "      <th>4</th>\n",
              "      <td>18</td>\n",
              "      <td>18</td>\n",
              "      <td>4.0589</td>\n",
              "      <td>200</td>\n",
              "      <td>1</td>\n",
              "      <td>1</td>\n",
              "      <td>15.35</td>\n",
              "      <td>19.85</td>\n",
              "      <td>14.4</td>\n",
              "      <td>10.5</td>\n",
              "      <td>0.111</td>\n",
              "      <td>885.163333</td>\n",
              "    </tr>\n",
              "  </tbody>\n",
              "</table>\n",
              "</div>"
            ],
            "text/plain": [
              "   CREDIT_1  CREDIT_2   GPA_1  EXTRA_ACTIVITY  COMPLETE_MAJOR  PF  AR_2016  \\\n",
              "0        18        12  4.2310             300               1   1    15.35   \n",
              "1        18        18  4.1486              50               1   1    15.35   \n",
              "2        18        15  4.1206             300               1   1    15.35   \n",
              "3        18        18  4.1021             300               0   1    15.35   \n",
              "4        18        18  4.0589             200               1   1    15.35   \n",
              "\n",
              "   AR_2017  AR_2018  AR_2019  EVERY_TIME  MAJOR_SCORE  \n",
              "0    19.85     14.4     10.5       0.111   965.750667  \n",
              "1    19.85     14.4     10.5       0.111   737.820000  \n",
              "2    19.85     14.4     10.5       0.111   974.641212  \n",
              "3    19.85     14.4     10.5       0.111   586.063333  \n",
              "4    19.85     14.4     10.5       0.111   885.163333  "
            ]
          },
          "metadata": {
            "tags": []
          },
          "execution_count": 204
        }
      ]
    },
    {
      "cell_type": "markdown",
      "metadata": {
        "id": "hA4r_kpj1rfk",
        "colab_type": "text"
      },
      "source": [
        "# 2. 모델링"
      ]
    },
    {
      "cell_type": "markdown",
      "metadata": {
        "id": "RbpF5nCI1tW4",
        "colab_type": "text"
      },
      "source": [
        "## 1) Xgboost"
      ]
    },
    {
      "cell_type": "markdown",
      "metadata": {
        "id": "6yrFvzMS19Sw",
        "colab_type": "text"
      },
      "source": [
        "### (1) A: 1st Model"
      ]
    },
    {
      "cell_type": "code",
      "metadata": {
        "id": "OxEOhpZ61m0m",
        "colab_type": "code",
        "colab": {}
      },
      "source": [
        "# Pass Fail 여부 확인 위해 Y를 'PF' column으로 지정\n",
        "X = df_a[list(df_a)[1:]]\n",
        "y = df_a['PF']\n",
        "\n",
        "# train, test 설정\n",
        "X_train, X_test, y_train, y_test = train_test_split(X, y, test_size=0.25, random_state=42)"
      ],
      "execution_count": null,
      "outputs": []
    },
    {
      "cell_type": "markdown",
      "metadata": {
        "id": "ZyIM-Red2uIQ",
        "colab_type": "text"
      },
      "source": [
        "학습 진행 시작"
      ]
    },
    {
      "cell_type": "code",
      "metadata": {
        "id": "4s6yybjx2lNy",
        "colab_type": "code",
        "colab": {
          "base_uri": "https://localhost:8080/",
          "height": 36
        },
        "outputId": "d40f6ec8-6ba4-4454-afe9-79b693e68346"
      },
      "source": [
        "# 시간 설정\n",
        "import time\n",
        "start = time.time()\n",
        "\n",
        "# Xgboost Classifier\n",
        "from xgboost import XGBClassifier, plot_importance\n",
        "model = XGBClassifier()\n",
        "model.fit(X_train, y_train)\n",
        "\n",
        "# 소요된 시간 계산(현재시각 - 시작시간 = 실행시간)\n",
        "print(\"실행에 소요된 시간 :\", time.time()-start)"
      ],
      "execution_count": null,
      "outputs": [
        {
          "output_type": "stream",
          "text": [
            "실행에 소요된 시간 : 0.08058738708496094\n"
          ],
          "name": "stdout"
        }
      ]
    },
    {
      "cell_type": "code",
      "metadata": {
        "id": "rUv8PAVL3Yzw",
        "colab_type": "code",
        "colab": {
          "base_uri": "https://localhost:8080/",
          "height": 148
        },
        "outputId": "7155c1c8-0a3c-4b1e-debf-9ce0cadead22"
      },
      "source": [
        "# model 확인\n",
        "model"
      ],
      "execution_count": null,
      "outputs": [
        {
          "output_type": "execute_result",
          "data": {
            "text/plain": [
              "XGBClassifier(base_score=0.5, booster='gbtree', colsample_bylevel=1,\n",
              "              colsample_bynode=1, colsample_bytree=1, gamma=0,\n",
              "              learning_rate=0.1, max_delta_step=0, max_depth=3,\n",
              "              min_child_weight=1, missing=None, n_estimators=100, n_jobs=1,\n",
              "              nthread=None, objective='binary:logistic', random_state=0,\n",
              "              reg_alpha=0, reg_lambda=1, scale_pos_weight=1, seed=None,\n",
              "              silent=None, subsample=1, verbosity=1)"
            ]
          },
          "metadata": {
            "tags": []
          },
          "execution_count": 207
        }
      ]
    },
    {
      "cell_type": "code",
      "metadata": {
        "id": "V9vIGFzH3ZtQ",
        "colab_type": "code",
        "colab": {
          "base_uri": "https://localhost:8080/",
          "height": 36
        },
        "outputId": "5f69f53a-7593-42f2-f6a0-15bed7e4b07b"
      },
      "source": [
        "model.predict(X_test)\n",
        "\n",
        "y_pred = model.predict(X_test)\n",
        "\n",
        "from sklearn.metrics import f1_score\n",
        "\n",
        "f1_score(y_test,y_pred, average='weighted')"
      ],
      "execution_count": null,
      "outputs": [
        {
          "output_type": "execute_result",
          "data": {
            "text/plain": [
              "1.0"
            ]
          },
          "metadata": {
            "tags": []
          },
          "execution_count": 208
        }
      ]
    },
    {
      "cell_type": "markdown",
      "metadata": {
        "id": "Sp3iA-15q5uG",
        "colab_type": "text"
      },
      "source": [
        "#### 1st. GridSearchCV : max_depth, gamma"
      ]
    },
    {
      "cell_type": "code",
      "metadata": {
        "id": "gt6tG7SE3g6-",
        "colab_type": "code",
        "colab": {}
      },
      "source": [
        "my_scorer_f1 = make_scorer(f1_score, greater_is_better = True)\n",
        "my_scorer_acc = make_scorer(accuracy_score, greater_is_better = True)"
      ],
      "execution_count": null,
      "outputs": []
    },
    {
      "cell_type": "code",
      "metadata": {
        "id": "ot1MwfUBq9ho",
        "colab_type": "code",
        "colab": {}
      },
      "source": [
        "xgb_1 = XGBClassifier(\n",
        " learning_rate = 0.1,\n",
        " n_estimators = 100,\n",
        ")"
      ],
      "execution_count": null,
      "outputs": []
    },
    {
      "cell_type": "code",
      "metadata": {
        "id": "0zA0Icakq_ql",
        "colab_type": "code",
        "colab": {}
      },
      "source": [
        "xgb_params_1 = {\n",
        "    'max_depth' : [3,5,7],\n",
        "    'gamma' : [0, 0.1],\n",
        "} "
      ],
      "execution_count": null,
      "outputs": []
    },
    {
      "cell_type": "code",
      "metadata": {
        "id": "BL7JrV8QrBjg",
        "colab_type": "code",
        "colab": {}
      },
      "source": [
        "X = df_a[list(df_a)[1:]]\n",
        "y = df_a['PF']\n",
        "\n",
        "X_train, X_test, y_train, y_test = train_test_split(X, y, test_size=0.25, random_state=42)"
      ],
      "execution_count": null,
      "outputs": []
    },
    {
      "cell_type": "code",
      "metadata": {
        "id": "I4Joa0W2rF-8",
        "colab_type": "code",
        "colab": {
          "base_uri": "https://localhost:8080/",
          "height": 129
        },
        "outputId": "936961b8-645c-4737-b916-c63e7cee30e4"
      },
      "source": [
        "# 시간 설정\n",
        "import time\n",
        "start = time.time()\n",
        "\n",
        "# GridSearchCV\n",
        "xgb_grid_1 = GridSearchCV(estimator=xgb_1, param_grid=xgb_params_1, \n",
        "                          scoring=my_scorer_f1, cv=4, n_jobs=1, verbose=1)\n",
        "xgb_grid_1.fit(X_train, y_train)\n",
        "\n",
        "# 최적의 모델 선정 및 소요된 시간 계산(현재시각 - 시작시간 = 실행시간)\n",
        "print(\"Best Score : {}\".format(xgb_grid_1.best_score_))\n",
        "print(\"Best Params : {}\".format(xgb_grid_1.best_params_))\n",
        "print(\"실행에 소요된 시간 :\", time.time()-start)"
      ],
      "execution_count": null,
      "outputs": [
        {
          "output_type": "stream",
          "text": [
            "Fitting 4 folds for each of 6 candidates, totalling 24 fits\n"
          ],
          "name": "stdout"
        },
        {
          "output_type": "stream",
          "text": [
            "[Parallel(n_jobs=1)]: Using backend SequentialBackend with 1 concurrent workers.\n"
          ],
          "name": "stderr"
        },
        {
          "output_type": "stream",
          "text": [
            "Best Score : 1.0\n",
            "Best Params : {'gamma': 0, 'max_depth': 3}\n",
            "실행에 소요된 시간 : 1.357297420501709\n"
          ],
          "name": "stdout"
        },
        {
          "output_type": "stream",
          "text": [
            "[Parallel(n_jobs=1)]: Done  24 out of  24 | elapsed:    1.3s finished\n"
          ],
          "name": "stderr"
        }
      ]
    },
    {
      "cell_type": "code",
      "metadata": {
        "id": "8XH3FzCVWK88",
        "colab_type": "code",
        "colab": {
          "base_uri": "https://localhost:8080/",
          "height": 148
        },
        "outputId": "95d4d629-0f34-49d8-c6af-03ef97516a54"
      },
      "source": [
        "xgb_grid_1.best_estimator_"
      ],
      "execution_count": null,
      "outputs": [
        {
          "output_type": "execute_result",
          "data": {
            "text/plain": [
              "XGBClassifier(base_score=0.5, booster='gbtree', colsample_bylevel=1,\n",
              "              colsample_bynode=1, colsample_bytree=1, gamma=0,\n",
              "              learning_rate=0.1, max_delta_step=0, max_depth=3,\n",
              "              min_child_weight=1, missing=None, n_estimators=100, n_jobs=1,\n",
              "              nthread=None, objective='binary:logistic', random_state=0,\n",
              "              reg_alpha=0, reg_lambda=1, scale_pos_weight=1, seed=None,\n",
              "              silent=None, subsample=1, verbosity=1)"
            ]
          },
          "metadata": {
            "tags": []
          },
          "execution_count": 227
        }
      ]
    },
    {
      "cell_type": "code",
      "metadata": {
        "id": "1gIVSbjPrY9P",
        "colab_type": "code",
        "colab": {
          "base_uri": "https://localhost:8080/",
          "height": 430
        },
        "outputId": "d2b7219b-59c0-478f-ab68-5393e0147dfc"
      },
      "source": [
        "# 표 형태로 추출\n",
        "results = pd.DataFrame(xgb_grid_1.cv_results_)\n",
        "results = results.sort_values(by='mean_test_score', ascending=False)\n",
        "results.head()"
      ],
      "execution_count": null,
      "outputs": [
        {
          "output_type": "execute_result",
          "data": {
            "text/html": [
              "<div>\n",
              "<style scoped>\n",
              "    .dataframe tbody tr th:only-of-type {\n",
              "        vertical-align: middle;\n",
              "    }\n",
              "\n",
              "    .dataframe tbody tr th {\n",
              "        vertical-align: top;\n",
              "    }\n",
              "\n",
              "    .dataframe thead th {\n",
              "        text-align: right;\n",
              "    }\n",
              "</style>\n",
              "<table border=\"1\" class=\"dataframe\">\n",
              "  <thead>\n",
              "    <tr style=\"text-align: right;\">\n",
              "      <th></th>\n",
              "      <th>mean_fit_time</th>\n",
              "      <th>std_fit_time</th>\n",
              "      <th>mean_score_time</th>\n",
              "      <th>std_score_time</th>\n",
              "      <th>param_gamma</th>\n",
              "      <th>param_max_depth</th>\n",
              "      <th>params</th>\n",
              "      <th>split0_test_score</th>\n",
              "      <th>split1_test_score</th>\n",
              "      <th>split2_test_score</th>\n",
              "      <th>split3_test_score</th>\n",
              "      <th>mean_test_score</th>\n",
              "      <th>std_test_score</th>\n",
              "      <th>rank_test_score</th>\n",
              "    </tr>\n",
              "  </thead>\n",
              "  <tbody>\n",
              "    <tr>\n",
              "      <th>0</th>\n",
              "      <td>0.051167</td>\n",
              "      <td>0.001993</td>\n",
              "      <td>0.002671</td>\n",
              "      <td>0.000092</td>\n",
              "      <td>0</td>\n",
              "      <td>3</td>\n",
              "      <td>{'gamma': 0, 'max_depth': 3}</td>\n",
              "      <td>1.0</td>\n",
              "      <td>1.0</td>\n",
              "      <td>1.0</td>\n",
              "      <td>1.0</td>\n",
              "      <td>1.0</td>\n",
              "      <td>0.0</td>\n",
              "      <td>1</td>\n",
              "    </tr>\n",
              "    <tr>\n",
              "      <th>1</th>\n",
              "      <td>0.050213</td>\n",
              "      <td>0.000378</td>\n",
              "      <td>0.002608</td>\n",
              "      <td>0.000058</td>\n",
              "      <td>0</td>\n",
              "      <td>5</td>\n",
              "      <td>{'gamma': 0, 'max_depth': 5}</td>\n",
              "      <td>1.0</td>\n",
              "      <td>1.0</td>\n",
              "      <td>1.0</td>\n",
              "      <td>1.0</td>\n",
              "      <td>1.0</td>\n",
              "      <td>0.0</td>\n",
              "      <td>1</td>\n",
              "    </tr>\n",
              "    <tr>\n",
              "      <th>2</th>\n",
              "      <td>0.050548</td>\n",
              "      <td>0.002114</td>\n",
              "      <td>0.002933</td>\n",
              "      <td>0.000629</td>\n",
              "      <td>0</td>\n",
              "      <td>7</td>\n",
              "      <td>{'gamma': 0, 'max_depth': 7}</td>\n",
              "      <td>1.0</td>\n",
              "      <td>1.0</td>\n",
              "      <td>1.0</td>\n",
              "      <td>1.0</td>\n",
              "      <td>1.0</td>\n",
              "      <td>0.0</td>\n",
              "      <td>1</td>\n",
              "    </tr>\n",
              "    <tr>\n",
              "      <th>3</th>\n",
              "      <td>0.049385</td>\n",
              "      <td>0.000531</td>\n",
              "      <td>0.002624</td>\n",
              "      <td>0.000069</td>\n",
              "      <td>0.1</td>\n",
              "      <td>3</td>\n",
              "      <td>{'gamma': 0.1, 'max_depth': 3}</td>\n",
              "      <td>1.0</td>\n",
              "      <td>1.0</td>\n",
              "      <td>1.0</td>\n",
              "      <td>1.0</td>\n",
              "      <td>1.0</td>\n",
              "      <td>0.0</td>\n",
              "      <td>1</td>\n",
              "    </tr>\n",
              "    <tr>\n",
              "      <th>4</th>\n",
              "      <td>0.048928</td>\n",
              "      <td>0.000130</td>\n",
              "      <td>0.002687</td>\n",
              "      <td>0.000104</td>\n",
              "      <td>0.1</td>\n",
              "      <td>5</td>\n",
              "      <td>{'gamma': 0.1, 'max_depth': 5}</td>\n",
              "      <td>1.0</td>\n",
              "      <td>1.0</td>\n",
              "      <td>1.0</td>\n",
              "      <td>1.0</td>\n",
              "      <td>1.0</td>\n",
              "      <td>0.0</td>\n",
              "      <td>1</td>\n",
              "    </tr>\n",
              "  </tbody>\n",
              "</table>\n",
              "</div>"
            ],
            "text/plain": [
              "   mean_fit_time  std_fit_time  mean_score_time  std_score_time param_gamma  \\\n",
              "0       0.051167      0.001993         0.002671        0.000092           0   \n",
              "1       0.050213      0.000378         0.002608        0.000058           0   \n",
              "2       0.050548      0.002114         0.002933        0.000629           0   \n",
              "3       0.049385      0.000531         0.002624        0.000069         0.1   \n",
              "4       0.048928      0.000130         0.002687        0.000104         0.1   \n",
              "\n",
              "  param_max_depth                          params  split0_test_score  \\\n",
              "0               3    {'gamma': 0, 'max_depth': 3}                1.0   \n",
              "1               5    {'gamma': 0, 'max_depth': 5}                1.0   \n",
              "2               7    {'gamma': 0, 'max_depth': 7}                1.0   \n",
              "3               3  {'gamma': 0.1, 'max_depth': 3}                1.0   \n",
              "4               5  {'gamma': 0.1, 'max_depth': 5}                1.0   \n",
              "\n",
              "   split1_test_score  split2_test_score  split3_test_score  mean_test_score  \\\n",
              "0                1.0                1.0                1.0              1.0   \n",
              "1                1.0                1.0                1.0              1.0   \n",
              "2                1.0                1.0                1.0              1.0   \n",
              "3                1.0                1.0                1.0              1.0   \n",
              "4                1.0                1.0                1.0              1.0   \n",
              "\n",
              "   std_test_score  rank_test_score  \n",
              "0             0.0                1  \n",
              "1             0.0                1  \n",
              "2             0.0                1  \n",
              "3             0.0                1  \n",
              "4             0.0                1  "
            ]
          },
          "metadata": {
            "tags": []
          },
          "execution_count": 214
        }
      ]
    },
    {
      "cell_type": "markdown",
      "metadata": {
        "id": "GH33Y1zjroN5",
        "colab_type": "text"
      },
      "source": [
        "#### 2nd. GridSearchCV : max_depth, subsample"
      ]
    },
    {
      "cell_type": "code",
      "metadata": {
        "id": "PY9cZTsBrlLU",
        "colab_type": "code",
        "colab": {}
      },
      "source": [
        "my_scorer_f1 = make_scorer(f1_score, greater_is_better = True)\n",
        "my_scorer_acc = make_scorer(accuracy_score, greater_is_better = True)"
      ],
      "execution_count": null,
      "outputs": []
    },
    {
      "cell_type": "code",
      "metadata": {
        "id": "keQEV9sTrr4x",
        "colab_type": "code",
        "colab": {}
      },
      "source": [
        "xgb_2 = XGBClassifier(\n",
        " learning_rate = 0.1,\n",
        " n_estimators = 100,\n",
        ")"
      ],
      "execution_count": null,
      "outputs": []
    },
    {
      "cell_type": "code",
      "metadata": {
        "id": "BYwITpBgsPTw",
        "colab_type": "code",
        "colab": {}
      },
      "source": [
        "xgb_params_2 = {\n",
        "    'max_depth' : [3,4,5],\n",
        "    'subsample' : [0.5, 0.7],\n",
        "} "
      ],
      "execution_count": null,
      "outputs": []
    },
    {
      "cell_type": "code",
      "metadata": {
        "id": "vAQOmsPzsdiI",
        "colab_type": "code",
        "colab": {}
      },
      "source": [
        "X = df_a[list(df_a)[1:]]\n",
        "y = df_a['PF']\n",
        "\n",
        "X_train, X_test, y_train, y_test = train_test_split(X, y, test_size=0.25, random_state=42)"
      ],
      "execution_count": null,
      "outputs": []
    },
    {
      "cell_type": "code",
      "metadata": {
        "id": "kvQRC3yQsnwx",
        "colab_type": "code",
        "colab": {
          "base_uri": "https://localhost:8080/",
          "height": 129
        },
        "outputId": "161fe140-cda8-4f2d-c456-5eb8f7c248fa"
      },
      "source": [
        "# 시간 설정\n",
        "import time\n",
        "start = time.time()\n",
        "\n",
        "# GridSearchCV\n",
        "xgb_grid_2 = GridSearchCV(estimator=xgb_2, param_grid=xgb_params_2, \n",
        "                          scoring=my_scorer_f1, cv=4, n_jobs=1, verbose=1)\n",
        "xgb_grid_2.fit(X_train, y_train)\n",
        "\n",
        "# 최적의 모델 선정 및 소요된 시간 계산(현재시각 - 시작시간 = 실행시간)\n",
        "print(\"Best Score : {}\".format(xgb_grid_1.best_score_))\n",
        "print(\"Best Params : {}\".format(xgb_grid_1.best_params_))\n",
        "print(\"실행에 소요된 시간 :\", time.time()-start)"
      ],
      "execution_count": null,
      "outputs": [
        {
          "output_type": "stream",
          "text": [
            "Fitting 4 folds for each of 6 candidates, totalling 24 fits\n"
          ],
          "name": "stdout"
        },
        {
          "output_type": "stream",
          "text": [
            "[Parallel(n_jobs=1)]: Using backend SequentialBackend with 1 concurrent workers.\n"
          ],
          "name": "stderr"
        },
        {
          "output_type": "stream",
          "text": [
            "Best Score : 1.0\n",
            "Best Params : {'gamma': 0, 'max_depth': 3}\n",
            "실행에 소요된 시간 : 1.5258922576904297\n"
          ],
          "name": "stdout"
        },
        {
          "output_type": "stream",
          "text": [
            "[Parallel(n_jobs=1)]: Done  24 out of  24 | elapsed:    1.4s finished\n"
          ],
          "name": "stderr"
        }
      ]
    },
    {
      "cell_type": "code",
      "metadata": {
        "id": "b2iy-Qa5WYpZ",
        "colab_type": "code",
        "colab": {
          "base_uri": "https://localhost:8080/",
          "height": 148
        },
        "outputId": "5e842dc2-cb35-4449-ef9a-54a6cfb0c46b"
      },
      "source": [
        "xgb_grid_2.best_estimator_"
      ],
      "execution_count": null,
      "outputs": [
        {
          "output_type": "execute_result",
          "data": {
            "text/plain": [
              "XGBClassifier(base_score=0.5, booster='gbtree', colsample_bylevel=1,\n",
              "              colsample_bynode=1, colsample_bytree=1, gamma=0,\n",
              "              learning_rate=0.1, max_delta_step=0, max_depth=3,\n",
              "              min_child_weight=1, missing=None, n_estimators=100, n_jobs=1,\n",
              "              nthread=None, objective='binary:logistic', random_state=0,\n",
              "              reg_alpha=0, reg_lambda=1, scale_pos_weight=1, seed=None,\n",
              "              silent=None, subsample=0.5, verbosity=1)"
            ]
          },
          "metadata": {
            "tags": []
          },
          "execution_count": 228
        }
      ]
    },
    {
      "cell_type": "code",
      "metadata": {
        "id": "Di2fEsV5bkL-",
        "colab_type": "code",
        "colab": {
          "base_uri": "https://localhost:8080/",
          "height": 482
        },
        "outputId": "a245a6e7-dba3-417f-e027-b27567e3915c"
      },
      "source": [
        "# 표 형태로 추출\n",
        "results = pd.DataFrame(xgb_grid_2.cv_results_)\n",
        "results = results.sort_values(by='mean_test_score', ascending=False)\n",
        "results.head()"
      ],
      "execution_count": null,
      "outputs": [
        {
          "output_type": "execute_result",
          "data": {
            "text/html": [
              "<div>\n",
              "<style scoped>\n",
              "    .dataframe tbody tr th:only-of-type {\n",
              "        vertical-align: middle;\n",
              "    }\n",
              "\n",
              "    .dataframe tbody tr th {\n",
              "        vertical-align: top;\n",
              "    }\n",
              "\n",
              "    .dataframe thead th {\n",
              "        text-align: right;\n",
              "    }\n",
              "</style>\n",
              "<table border=\"1\" class=\"dataframe\">\n",
              "  <thead>\n",
              "    <tr style=\"text-align: right;\">\n",
              "      <th></th>\n",
              "      <th>mean_fit_time</th>\n",
              "      <th>std_fit_time</th>\n",
              "      <th>mean_score_time</th>\n",
              "      <th>std_score_time</th>\n",
              "      <th>param_max_depth</th>\n",
              "      <th>param_subsample</th>\n",
              "      <th>params</th>\n",
              "      <th>split0_test_score</th>\n",
              "      <th>split1_test_score</th>\n",
              "      <th>split2_test_score</th>\n",
              "      <th>split3_test_score</th>\n",
              "      <th>mean_test_score</th>\n",
              "      <th>std_test_score</th>\n",
              "      <th>rank_test_score</th>\n",
              "    </tr>\n",
              "  </thead>\n",
              "  <tbody>\n",
              "    <tr>\n",
              "      <th>0</th>\n",
              "      <td>0.058626</td>\n",
              "      <td>0.001787</td>\n",
              "      <td>0.002603</td>\n",
              "      <td>0.000018</td>\n",
              "      <td>3</td>\n",
              "      <td>0.5</td>\n",
              "      <td>{'max_depth': 3, 'subsample': 0.5}</td>\n",
              "      <td>1.0</td>\n",
              "      <td>1.0</td>\n",
              "      <td>1.0</td>\n",
              "      <td>1.0</td>\n",
              "      <td>1.0</td>\n",
              "      <td>0.0</td>\n",
              "      <td>1</td>\n",
              "    </tr>\n",
              "    <tr>\n",
              "      <th>1</th>\n",
              "      <td>0.056181</td>\n",
              "      <td>0.001232</td>\n",
              "      <td>0.002792</td>\n",
              "      <td>0.000342</td>\n",
              "      <td>3</td>\n",
              "      <td>0.7</td>\n",
              "      <td>{'max_depth': 3, 'subsample': 0.7}</td>\n",
              "      <td>1.0</td>\n",
              "      <td>1.0</td>\n",
              "      <td>1.0</td>\n",
              "      <td>1.0</td>\n",
              "      <td>1.0</td>\n",
              "      <td>0.0</td>\n",
              "      <td>1</td>\n",
              "    </tr>\n",
              "    <tr>\n",
              "      <th>2</th>\n",
              "      <td>0.057163</td>\n",
              "      <td>0.000805</td>\n",
              "      <td>0.002598</td>\n",
              "      <td>0.000037</td>\n",
              "      <td>4</td>\n",
              "      <td>0.5</td>\n",
              "      <td>{'max_depth': 4, 'subsample': 0.5}</td>\n",
              "      <td>1.0</td>\n",
              "      <td>1.0</td>\n",
              "      <td>1.0</td>\n",
              "      <td>1.0</td>\n",
              "      <td>1.0</td>\n",
              "      <td>0.0</td>\n",
              "      <td>1</td>\n",
              "    </tr>\n",
              "    <tr>\n",
              "      <th>3</th>\n",
              "      <td>0.056442</td>\n",
              "      <td>0.000476</td>\n",
              "      <td>0.002614</td>\n",
              "      <td>0.000056</td>\n",
              "      <td>4</td>\n",
              "      <td>0.7</td>\n",
              "      <td>{'max_depth': 4, 'subsample': 0.7}</td>\n",
              "      <td>1.0</td>\n",
              "      <td>1.0</td>\n",
              "      <td>1.0</td>\n",
              "      <td>1.0</td>\n",
              "      <td>1.0</td>\n",
              "      <td>0.0</td>\n",
              "      <td>1</td>\n",
              "    </tr>\n",
              "    <tr>\n",
              "      <th>4</th>\n",
              "      <td>0.058221</td>\n",
              "      <td>0.002516</td>\n",
              "      <td>0.002600</td>\n",
              "      <td>0.000038</td>\n",
              "      <td>5</td>\n",
              "      <td>0.5</td>\n",
              "      <td>{'max_depth': 5, 'subsample': 0.5}</td>\n",
              "      <td>1.0</td>\n",
              "      <td>1.0</td>\n",
              "      <td>1.0</td>\n",
              "      <td>1.0</td>\n",
              "      <td>1.0</td>\n",
              "      <td>0.0</td>\n",
              "      <td>1</td>\n",
              "    </tr>\n",
              "  </tbody>\n",
              "</table>\n",
              "</div>"
            ],
            "text/plain": [
              "   mean_fit_time  std_fit_time  mean_score_time  std_score_time  \\\n",
              "0       0.058626      0.001787         0.002603        0.000018   \n",
              "1       0.056181      0.001232         0.002792        0.000342   \n",
              "2       0.057163      0.000805         0.002598        0.000037   \n",
              "3       0.056442      0.000476         0.002614        0.000056   \n",
              "4       0.058221      0.002516         0.002600        0.000038   \n",
              "\n",
              "  param_max_depth param_subsample                              params  \\\n",
              "0               3             0.5  {'max_depth': 3, 'subsample': 0.5}   \n",
              "1               3             0.7  {'max_depth': 3, 'subsample': 0.7}   \n",
              "2               4             0.5  {'max_depth': 4, 'subsample': 0.5}   \n",
              "3               4             0.7  {'max_depth': 4, 'subsample': 0.7}   \n",
              "4               5             0.5  {'max_depth': 5, 'subsample': 0.5}   \n",
              "\n",
              "   split0_test_score  split1_test_score  split2_test_score  split3_test_score  \\\n",
              "0                1.0                1.0                1.0                1.0   \n",
              "1                1.0                1.0                1.0                1.0   \n",
              "2                1.0                1.0                1.0                1.0   \n",
              "3                1.0                1.0                1.0                1.0   \n",
              "4                1.0                1.0                1.0                1.0   \n",
              "\n",
              "   mean_test_score  std_test_score  rank_test_score  \n",
              "0              1.0             0.0                1  \n",
              "1              1.0             0.0                1  \n",
              "2              1.0             0.0                1  \n",
              "3              1.0             0.0                1  \n",
              "4              1.0             0.0                1  "
            ]
          },
          "metadata": {
            "tags": []
          },
          "execution_count": 220
        }
      ]
    },
    {
      "cell_type": "markdown",
      "metadata": {
        "id": "P78-LHqpEFYf",
        "colab_type": "text"
      },
      "source": [
        "#### 3rd. GridSearchCV : learning_rate, n_estimators"
      ]
    },
    {
      "cell_type": "code",
      "metadata": {
        "id": "ZJ0lZ-Iovhkm",
        "colab_type": "code",
        "colab": {}
      },
      "source": [
        "my_scorer_f1 = make_scorer(f1_score, greater_is_better = True)\n",
        "my_scorer_acc = make_scorer(accuracy_score, greater_is_better = True)"
      ],
      "execution_count": null,
      "outputs": []
    },
    {
      "cell_type": "code",
      "metadata": {
        "id": "FEA8RDb5EJc8",
        "colab_type": "code",
        "colab": {}
      },
      "source": [
        "xgb_model = XGBClassifier(\n",
        " max_depth = 4,\n",
        " subsample = 0.5,\n",
        " gamma = 0\n",
        ")"
      ],
      "execution_count": null,
      "outputs": []
    },
    {
      "cell_type": "code",
      "metadata": {
        "id": "xq_Ig8IpEZ_0",
        "colab_type": "code",
        "colab": {}
      },
      "source": [
        "xgb_params_3 = {\n",
        "    'learning_rate' : [0.01, 0.1, 0.2],\n",
        "    'n_estimators' : [100, 150, 200]}"
      ],
      "execution_count": null,
      "outputs": []
    },
    {
      "cell_type": "code",
      "metadata": {
        "id": "hd3A1Ni0Edjg",
        "colab_type": "code",
        "colab": {}
      },
      "source": [
        "X = df_a[list(df_a)[1:]]\n",
        "y = df_a['PF']\n",
        "\n",
        "X_train, X_test, y_train, y_test = train_test_split(X, y, test_size=0.25, random_state=42)"
      ],
      "execution_count": null,
      "outputs": []
    },
    {
      "cell_type": "code",
      "metadata": {
        "id": "9WpZfYtjEgzN",
        "colab_type": "code",
        "colab": {
          "base_uri": "https://localhost:8080/",
          "height": 129
        },
        "outputId": "5ffd37e4-8301-4561-faad-ff91e0a9377f"
      },
      "source": [
        "# 시간 설정\n",
        "import time\n",
        "start = time.time()\n",
        "\n",
        "# Core parameter 설정\n",
        "xgb_grid_3 = GridSearchCV(xgb_model, param_grid = xgb_params_3,\n",
        "                          scoring = my_scorer_f1, cv=4, verbose=1)\n",
        "xgb_grid_3.fit(X_train, y_train)\n",
        "\n",
        "# 최적의 모델 선정 및 소요된 시간 계산(현재시각 - 시작시간 = 실행시간)\n",
        "print(\"Best Score : {}\".format(xgb_grid_3.best_score_))\n",
        "print(\"Best Params : {}\".format(xgb_grid_3.best_params_))\n",
        "print(\"실행에 소요된 시간 :\", time.time()-start)"
      ],
      "execution_count": null,
      "outputs": [
        {
          "output_type": "stream",
          "text": [
            "Fitting 4 folds for each of 9 candidates, totalling 36 fits\n"
          ],
          "name": "stdout"
        },
        {
          "output_type": "stream",
          "text": [
            "[Parallel(n_jobs=1)]: Using backend SequentialBackend with 1 concurrent workers.\n"
          ],
          "name": "stderr"
        },
        {
          "output_type": "stream",
          "text": [
            "Best Score : 1.0\n",
            "Best Params : {'learning_rate': 0.01, 'n_estimators': 100}\n",
            "실행에 소요된 시간 : 3.120469093322754\n"
          ],
          "name": "stdout"
        },
        {
          "output_type": "stream",
          "text": [
            "[Parallel(n_jobs=1)]: Done  36 out of  36 | elapsed:    3.0s finished\n"
          ],
          "name": "stderr"
        }
      ]
    },
    {
      "cell_type": "code",
      "metadata": {
        "id": "m1bAEwRCEr8U",
        "colab_type": "code",
        "colab": {
          "base_uri": "https://localhost:8080/",
          "height": 148
        },
        "outputId": "f8f46f64-9dd0-41ff-ca4a-fa4413229eca"
      },
      "source": [
        "xgb_grid_3.best_estimator_"
      ],
      "execution_count": null,
      "outputs": [
        {
          "output_type": "execute_result",
          "data": {
            "text/plain": [
              "XGBClassifier(base_score=0.5, booster='gbtree', colsample_bylevel=1,\n",
              "              colsample_bynode=1, colsample_bytree=1, gamma=0,\n",
              "              learning_rate=0.01, max_delta_step=0, max_depth=4,\n",
              "              min_child_weight=1, missing=None, n_estimators=100, n_jobs=1,\n",
              "              nthread=None, objective='binary:logistic', random_state=0,\n",
              "              reg_alpha=0, reg_lambda=1, scale_pos_weight=1, seed=None,\n",
              "              silent=None, subsample=0.5, verbosity=1)"
            ]
          },
          "metadata": {
            "tags": []
          },
          "execution_count": 226
        }
      ]
    },
    {
      "cell_type": "code",
      "metadata": {
        "id": "lXI5-qX7bn-2",
        "colab_type": "code",
        "colab": {
          "base_uri": "https://localhost:8080/",
          "height": 482
        },
        "outputId": "8eb9e3c6-4165-4a64-b244-722c33cfff5b"
      },
      "source": [
        "# 표 형태로 추출\n",
        "results = pd.DataFrame(xgb_grid_3.cv_results_)\n",
        "results = results.sort_values(by='mean_test_score', ascending=False)\n",
        "results.head()"
      ],
      "execution_count": null,
      "outputs": [
        {
          "output_type": "execute_result",
          "data": {
            "text/html": [
              "<div>\n",
              "<style scoped>\n",
              "    .dataframe tbody tr th:only-of-type {\n",
              "        vertical-align: middle;\n",
              "    }\n",
              "\n",
              "    .dataframe tbody tr th {\n",
              "        vertical-align: top;\n",
              "    }\n",
              "\n",
              "    .dataframe thead th {\n",
              "        text-align: right;\n",
              "    }\n",
              "</style>\n",
              "<table border=\"1\" class=\"dataframe\">\n",
              "  <thead>\n",
              "    <tr style=\"text-align: right;\">\n",
              "      <th></th>\n",
              "      <th>mean_fit_time</th>\n",
              "      <th>std_fit_time</th>\n",
              "      <th>mean_score_time</th>\n",
              "      <th>std_score_time</th>\n",
              "      <th>param_learning_rate</th>\n",
              "      <th>param_n_estimators</th>\n",
              "      <th>params</th>\n",
              "      <th>split0_test_score</th>\n",
              "      <th>split1_test_score</th>\n",
              "      <th>split2_test_score</th>\n",
              "      <th>split3_test_score</th>\n",
              "      <th>mean_test_score</th>\n",
              "      <th>std_test_score</th>\n",
              "      <th>rank_test_score</th>\n",
              "    </tr>\n",
              "  </thead>\n",
              "  <tbody>\n",
              "    <tr>\n",
              "      <th>0</th>\n",
              "      <td>0.067732</td>\n",
              "      <td>0.001786</td>\n",
              "      <td>0.002682</td>\n",
              "      <td>0.000097</td>\n",
              "      <td>0.01</td>\n",
              "      <td>100</td>\n",
              "      <td>{'learning_rate': 0.01, 'n_estimators': 100}</td>\n",
              "      <td>1.0</td>\n",
              "      <td>1.0</td>\n",
              "      <td>1.0</td>\n",
              "      <td>1.0</td>\n",
              "      <td>1.0</td>\n",
              "      <td>0.0</td>\n",
              "      <td>1</td>\n",
              "    </tr>\n",
              "    <tr>\n",
              "      <th>1</th>\n",
              "      <td>0.096033</td>\n",
              "      <td>0.002542</td>\n",
              "      <td>0.002899</td>\n",
              "      <td>0.000242</td>\n",
              "      <td>0.01</td>\n",
              "      <td>150</td>\n",
              "      <td>{'learning_rate': 0.01, 'n_estimators': 150}</td>\n",
              "      <td>1.0</td>\n",
              "      <td>1.0</td>\n",
              "      <td>1.0</td>\n",
              "      <td>1.0</td>\n",
              "      <td>1.0</td>\n",
              "      <td>0.0</td>\n",
              "      <td>1</td>\n",
              "    </tr>\n",
              "    <tr>\n",
              "      <th>2</th>\n",
              "      <td>0.125283</td>\n",
              "      <td>0.000428</td>\n",
              "      <td>0.002894</td>\n",
              "      <td>0.000040</td>\n",
              "      <td>0.01</td>\n",
              "      <td>200</td>\n",
              "      <td>{'learning_rate': 0.01, 'n_estimators': 200}</td>\n",
              "      <td>1.0</td>\n",
              "      <td>1.0</td>\n",
              "      <td>1.0</td>\n",
              "      <td>1.0</td>\n",
              "      <td>1.0</td>\n",
              "      <td>0.0</td>\n",
              "      <td>1</td>\n",
              "    </tr>\n",
              "    <tr>\n",
              "      <th>3</th>\n",
              "      <td>0.058929</td>\n",
              "      <td>0.001677</td>\n",
              "      <td>0.003119</td>\n",
              "      <td>0.000605</td>\n",
              "      <td>0.1</td>\n",
              "      <td>100</td>\n",
              "      <td>{'learning_rate': 0.1, 'n_estimators': 100}</td>\n",
              "      <td>1.0</td>\n",
              "      <td>1.0</td>\n",
              "      <td>1.0</td>\n",
              "      <td>1.0</td>\n",
              "      <td>1.0</td>\n",
              "      <td>0.0</td>\n",
              "      <td>1</td>\n",
              "    </tr>\n",
              "    <tr>\n",
              "      <th>4</th>\n",
              "      <td>0.075861</td>\n",
              "      <td>0.000134</td>\n",
              "      <td>0.002832</td>\n",
              "      <td>0.000060</td>\n",
              "      <td>0.1</td>\n",
              "      <td>150</td>\n",
              "      <td>{'learning_rate': 0.1, 'n_estimators': 150}</td>\n",
              "      <td>1.0</td>\n",
              "      <td>1.0</td>\n",
              "      <td>1.0</td>\n",
              "      <td>1.0</td>\n",
              "      <td>1.0</td>\n",
              "      <td>0.0</td>\n",
              "      <td>1</td>\n",
              "    </tr>\n",
              "  </tbody>\n",
              "</table>\n",
              "</div>"
            ],
            "text/plain": [
              "   mean_fit_time  std_fit_time  mean_score_time  std_score_time  \\\n",
              "0       0.067732      0.001786         0.002682        0.000097   \n",
              "1       0.096033      0.002542         0.002899        0.000242   \n",
              "2       0.125283      0.000428         0.002894        0.000040   \n",
              "3       0.058929      0.001677         0.003119        0.000605   \n",
              "4       0.075861      0.000134         0.002832        0.000060   \n",
              "\n",
              "  param_learning_rate param_n_estimators  \\\n",
              "0                0.01                100   \n",
              "1                0.01                150   \n",
              "2                0.01                200   \n",
              "3                 0.1                100   \n",
              "4                 0.1                150   \n",
              "\n",
              "                                         params  split0_test_score  \\\n",
              "0  {'learning_rate': 0.01, 'n_estimators': 100}                1.0   \n",
              "1  {'learning_rate': 0.01, 'n_estimators': 150}                1.0   \n",
              "2  {'learning_rate': 0.01, 'n_estimators': 200}                1.0   \n",
              "3   {'learning_rate': 0.1, 'n_estimators': 100}                1.0   \n",
              "4   {'learning_rate': 0.1, 'n_estimators': 150}                1.0   \n",
              "\n",
              "   split1_test_score  split2_test_score  split3_test_score  mean_test_score  \\\n",
              "0                1.0                1.0                1.0              1.0   \n",
              "1                1.0                1.0                1.0              1.0   \n",
              "2                1.0                1.0                1.0              1.0   \n",
              "3                1.0                1.0                1.0              1.0   \n",
              "4                1.0                1.0                1.0              1.0   \n",
              "\n",
              "   std_test_score  rank_test_score  \n",
              "0             0.0                1  \n",
              "1             0.0                1  \n",
              "2             0.0                1  \n",
              "3             0.0                1  \n",
              "4             0.0                1  "
            ]
          },
          "metadata": {
            "tags": []
          },
          "execution_count": 229
        }
      ]
    },
    {
      "cell_type": "markdown",
      "metadata": {
        "id": "7veCLHS3VcbO",
        "colab_type": "text"
      },
      "source": [
        "#### 4th. GridSearchCV : n_jobs, gamma, subsample, colsample_bytree n_estimators"
      ]
    },
    {
      "cell_type": "code",
      "metadata": {
        "id": "hfX0F_IXExNk",
        "colab_type": "code",
        "colab": {}
      },
      "source": [
        "my_scorer_f1 = make_scorer(f1_score, greater_is_better = True)\n",
        "my_scorer_acc = make_scorer(accuracy_score, greater_is_better = True)"
      ],
      "execution_count": null,
      "outputs": []
    },
    {
      "cell_type": "code",
      "metadata": {
        "id": "f1WI2CgvVnFO",
        "colab_type": "code",
        "colab": {}
      },
      "source": [
        "xgb_model_4th = XGBClassifier(\n",
        " n_estimators = 100,\n",
        " learning_rate = 0.2\n",
        ")"
      ],
      "execution_count": null,
      "outputs": []
    },
    {
      "cell_type": "code",
      "metadata": {
        "id": "VbFnVMVkWrzl",
        "colab_type": "code",
        "colab": {}
      },
      "source": [
        "xgb_params_4 = {'n_jobs' : [1, 2, 3, 4, 5],\n",
        "    'gamma' : [0, 0.01, 0.1],\n",
        "    'subsample' : [0.5, 0.7],\n",
        "    'colsample_bytree' : [0.7, 0.9]}"
      ],
      "execution_count": null,
      "outputs": []
    },
    {
      "cell_type": "code",
      "metadata": {
        "id": "S-hVxsFTW-yz",
        "colab_type": "code",
        "colab": {}
      },
      "source": [
        "X = df_a[list(df_a)[1:]]\n",
        "y = df_a['PF']\n",
        "\n",
        "X_train, X_test, y_train, y_test = train_test_split(X, y, test_size=0.25, random_state=42)"
      ],
      "execution_count": null,
      "outputs": []
    },
    {
      "cell_type": "code",
      "metadata": {
        "id": "rDEsbbesXBCb",
        "colab_type": "code",
        "colab": {
          "base_uri": "https://localhost:8080/",
          "height": 129
        },
        "outputId": "5e18c965-7b76-48ed-d2fa-c55596218f2c"
      },
      "source": [
        "# 시간 설정\n",
        "import time\n",
        "start = time.time()\n",
        "\n",
        "# Core parameter 설정\n",
        "xgb_grid_4 = GridSearchCV(xgb_model_4th, param_grid = xgb_params_4,\n",
        "                          scoring = my_scorer_f1, cv=4, verbose=1)\n",
        "xgb_grid_4.fit(X_train, y_train)\n",
        "\n",
        "# 최적의 모델 선정 및 소요된 시간 계산(현재시각 - 시작시간 = 실행시간)\n",
        "print(\"Best Score : {}\".format(xgb_grid_4.best_score_))\n",
        "print(\"Best Params : {}\".format(xgb_grid_4.best_params_))\n",
        "print(\"실행에 소요된 시간 :\", time.time()-start)"
      ],
      "execution_count": null,
      "outputs": [
        {
          "output_type": "stream",
          "text": [
            "Fitting 4 folds for each of 60 candidates, totalling 240 fits\n"
          ],
          "name": "stdout"
        },
        {
          "output_type": "stream",
          "text": [
            "[Parallel(n_jobs=1)]: Using backend SequentialBackend with 1 concurrent workers.\n"
          ],
          "name": "stderr"
        },
        {
          "output_type": "stream",
          "text": [
            "Best Score : 1.0\n",
            "Best Params : {'colsample_bytree': 0.7, 'gamma': 0, 'n_jobs': 1, 'subsample': 0.5}\n",
            "실행에 소요된 시간 : 16.442517042160034\n"
          ],
          "name": "stdout"
        },
        {
          "output_type": "stream",
          "text": [
            "[Parallel(n_jobs=1)]: Done 240 out of 240 | elapsed:   16.4s finished\n"
          ],
          "name": "stderr"
        }
      ]
    },
    {
      "cell_type": "code",
      "metadata": {
        "id": "ZlS3xZw-XKp8",
        "colab_type": "code",
        "colab": {
          "base_uri": "https://localhost:8080/",
          "height": 148
        },
        "outputId": "7dd9b0ee-9e87-4af8-eaaf-3afe333adace"
      },
      "source": [
        "xgb_grid_4.best_estimator_"
      ],
      "execution_count": null,
      "outputs": [
        {
          "output_type": "execute_result",
          "data": {
            "text/plain": [
              "XGBClassifier(base_score=0.5, booster='gbtree', colsample_bylevel=1,\n",
              "              colsample_bynode=1, colsample_bytree=0.7, gamma=0,\n",
              "              learning_rate=0.2, max_delta_step=0, max_depth=3,\n",
              "              min_child_weight=1, missing=None, n_estimators=100, n_jobs=1,\n",
              "              nthread=None, objective='binary:logistic', random_state=0,\n",
              "              reg_alpha=0, reg_lambda=1, scale_pos_weight=1, seed=None,\n",
              "              silent=None, subsample=0.5, verbosity=1)"
            ]
          },
          "metadata": {
            "tags": []
          },
          "execution_count": 235
        }
      ]
    },
    {
      "cell_type": "code",
      "metadata": {
        "id": "q27UeuX6brzd",
        "colab_type": "code",
        "colab": {
          "base_uri": "https://localhost:8080/",
          "height": 395
        },
        "outputId": "05652337-e635-412f-b93e-5b7eff8ce670"
      },
      "source": [
        "# 표 형태로 추출\n",
        "results = pd.DataFrame(xgb_grid_4.cv_results_)\n",
        "results = results.sort_values(by='mean_test_score', ascending=False)\n",
        "results.head()"
      ],
      "execution_count": null,
      "outputs": [
        {
          "output_type": "execute_result",
          "data": {
            "text/html": [
              "<div>\n",
              "<style scoped>\n",
              "    .dataframe tbody tr th:only-of-type {\n",
              "        vertical-align: middle;\n",
              "    }\n",
              "\n",
              "    .dataframe tbody tr th {\n",
              "        vertical-align: top;\n",
              "    }\n",
              "\n",
              "    .dataframe thead th {\n",
              "        text-align: right;\n",
              "    }\n",
              "</style>\n",
              "<table border=\"1\" class=\"dataframe\">\n",
              "  <thead>\n",
              "    <tr style=\"text-align: right;\">\n",
              "      <th></th>\n",
              "      <th>mean_fit_time</th>\n",
              "      <th>std_fit_time</th>\n",
              "      <th>mean_score_time</th>\n",
              "      <th>std_score_time</th>\n",
              "      <th>param_colsample_bytree</th>\n",
              "      <th>param_gamma</th>\n",
              "      <th>param_n_jobs</th>\n",
              "      <th>param_subsample</th>\n",
              "      <th>params</th>\n",
              "      <th>split0_test_score</th>\n",
              "      <th>split1_test_score</th>\n",
              "      <th>split2_test_score</th>\n",
              "      <th>split3_test_score</th>\n",
              "      <th>mean_test_score</th>\n",
              "      <th>std_test_score</th>\n",
              "      <th>rank_test_score</th>\n",
              "    </tr>\n",
              "  </thead>\n",
              "  <tbody>\n",
              "    <tr>\n",
              "      <th>0</th>\n",
              "      <td>0.051452</td>\n",
              "      <td>0.001791</td>\n",
              "      <td>0.002632</td>\n",
              "      <td>0.000045</td>\n",
              "      <td>0.7</td>\n",
              "      <td>0</td>\n",
              "      <td>1</td>\n",
              "      <td>0.5</td>\n",
              "      <td>{'colsample_bytree': 0.7, 'gamma': 0, 'n_jobs'...</td>\n",
              "      <td>1.0</td>\n",
              "      <td>1.0</td>\n",
              "      <td>1.0</td>\n",
              "      <td>1.0</td>\n",
              "      <td>1.0</td>\n",
              "      <td>0.0</td>\n",
              "      <td>1</td>\n",
              "    </tr>\n",
              "    <tr>\n",
              "      <th>1</th>\n",
              "      <td>0.049397</td>\n",
              "      <td>0.000833</td>\n",
              "      <td>0.002702</td>\n",
              "      <td>0.000109</td>\n",
              "      <td>0.7</td>\n",
              "      <td>0</td>\n",
              "      <td>1</td>\n",
              "      <td>0.7</td>\n",
              "      <td>{'colsample_bytree': 0.7, 'gamma': 0, 'n_jobs'...</td>\n",
              "      <td>1.0</td>\n",
              "      <td>1.0</td>\n",
              "      <td>1.0</td>\n",
              "      <td>1.0</td>\n",
              "      <td>1.0</td>\n",
              "      <td>0.0</td>\n",
              "      <td>1</td>\n",
              "    </tr>\n",
              "    <tr>\n",
              "      <th>32</th>\n",
              "      <td>0.045302</td>\n",
              "      <td>0.000773</td>\n",
              "      <td>0.002949</td>\n",
              "      <td>0.000026</td>\n",
              "      <td>0.9</td>\n",
              "      <td>0</td>\n",
              "      <td>2</td>\n",
              "      <td>0.5</td>\n",
              "      <td>{'colsample_bytree': 0.9, 'gamma': 0, 'n_jobs'...</td>\n",
              "      <td>1.0</td>\n",
              "      <td>1.0</td>\n",
              "      <td>1.0</td>\n",
              "      <td>1.0</td>\n",
              "      <td>1.0</td>\n",
              "      <td>0.0</td>\n",
              "      <td>1</td>\n",
              "    </tr>\n",
              "    <tr>\n",
              "      <th>33</th>\n",
              "      <td>0.045063</td>\n",
              "      <td>0.000193</td>\n",
              "      <td>0.002981</td>\n",
              "      <td>0.000043</td>\n",
              "      <td>0.9</td>\n",
              "      <td>0</td>\n",
              "      <td>2</td>\n",
              "      <td>0.7</td>\n",
              "      <td>{'colsample_bytree': 0.9, 'gamma': 0, 'n_jobs'...</td>\n",
              "      <td>1.0</td>\n",
              "      <td>1.0</td>\n",
              "      <td>1.0</td>\n",
              "      <td>1.0</td>\n",
              "      <td>1.0</td>\n",
              "      <td>0.0</td>\n",
              "      <td>1</td>\n",
              "    </tr>\n",
              "    <tr>\n",
              "      <th>34</th>\n",
              "      <td>0.074098</td>\n",
              "      <td>0.003217</td>\n",
              "      <td>0.002822</td>\n",
              "      <td>0.000106</td>\n",
              "      <td>0.9</td>\n",
              "      <td>0</td>\n",
              "      <td>3</td>\n",
              "      <td>0.5</td>\n",
              "      <td>{'colsample_bytree': 0.9, 'gamma': 0, 'n_jobs'...</td>\n",
              "      <td>1.0</td>\n",
              "      <td>1.0</td>\n",
              "      <td>1.0</td>\n",
              "      <td>1.0</td>\n",
              "      <td>1.0</td>\n",
              "      <td>0.0</td>\n",
              "      <td>1</td>\n",
              "    </tr>\n",
              "  </tbody>\n",
              "</table>\n",
              "</div>"
            ],
            "text/plain": [
              "    mean_fit_time  std_fit_time  mean_score_time  std_score_time  \\\n",
              "0        0.051452      0.001791         0.002632        0.000045   \n",
              "1        0.049397      0.000833         0.002702        0.000109   \n",
              "32       0.045302      0.000773         0.002949        0.000026   \n",
              "33       0.045063      0.000193         0.002981        0.000043   \n",
              "34       0.074098      0.003217         0.002822        0.000106   \n",
              "\n",
              "   param_colsample_bytree param_gamma param_n_jobs param_subsample  \\\n",
              "0                     0.7           0            1             0.5   \n",
              "1                     0.7           0            1             0.7   \n",
              "32                    0.9           0            2             0.5   \n",
              "33                    0.9           0            2             0.7   \n",
              "34                    0.9           0            3             0.5   \n",
              "\n",
              "                                               params  split0_test_score  \\\n",
              "0   {'colsample_bytree': 0.7, 'gamma': 0, 'n_jobs'...                1.0   \n",
              "1   {'colsample_bytree': 0.7, 'gamma': 0, 'n_jobs'...                1.0   \n",
              "32  {'colsample_bytree': 0.9, 'gamma': 0, 'n_jobs'...                1.0   \n",
              "33  {'colsample_bytree': 0.9, 'gamma': 0, 'n_jobs'...                1.0   \n",
              "34  {'colsample_bytree': 0.9, 'gamma': 0, 'n_jobs'...                1.0   \n",
              "\n",
              "    split1_test_score  split2_test_score  split3_test_score  mean_test_score  \\\n",
              "0                 1.0                1.0                1.0              1.0   \n",
              "1                 1.0                1.0                1.0              1.0   \n",
              "32                1.0                1.0                1.0              1.0   \n",
              "33                1.0                1.0                1.0              1.0   \n",
              "34                1.0                1.0                1.0              1.0   \n",
              "\n",
              "    std_test_score  rank_test_score  \n",
              "0              0.0                1  \n",
              "1              0.0                1  \n",
              "32             0.0                1  \n",
              "33             0.0                1  \n",
              "34             0.0                1  "
            ]
          },
          "metadata": {
            "tags": []
          },
          "execution_count": 236
        }
      ]
    },
    {
      "cell_type": "markdown",
      "metadata": {
        "id": "ChAYEjgiZaH6",
        "colab_type": "text"
      },
      "source": [
        "#### 5th. GridSearchCV : max_depth, n_estimators"
      ]
    },
    {
      "cell_type": "code",
      "metadata": {
        "id": "EhwJs1tlY38o",
        "colab_type": "code",
        "colab": {}
      },
      "source": [
        "my_scorer_f1 = make_scorer(f1_score, greater_is_better = True)\n",
        "my_scorer_acc = make_scorer(accuracy_score, greater_is_better = True)"
      ],
      "execution_count": null,
      "outputs": []
    },
    {
      "cell_type": "code",
      "metadata": {
        "id": "00a7tpxtZuWS",
        "colab_type": "code",
        "colab": {}
      },
      "source": [
        "xgb_model_5th = XGBClassifier(\n",
        " gamma = 0,\n",
        " n_jobs = 1,\n",
        " subsample = 0.5,\n",
        " colsample_bytree = 0.7\n",
        ")"
      ],
      "execution_count": null,
      "outputs": []
    },
    {
      "cell_type": "code",
      "metadata": {
        "id": "G3V_gGtyZ3kP",
        "colab_type": "code",
        "colab": {}
      },
      "source": [
        "xgb_params_5 = {'n_estimators' : [100, 300, 500, 700, 900],\n",
        "    'max_depth' : [10, 15, 20]}"
      ],
      "execution_count": null,
      "outputs": []
    },
    {
      "cell_type": "code",
      "metadata": {
        "id": "xmqVGnEaaAAu",
        "colab_type": "code",
        "colab": {}
      },
      "source": [
        "X = df_a[list(df_a)[1:]]\n",
        "y = df_a['PF']\n",
        "\n",
        "X_train, X_test, y_train, y_test = train_test_split(X, y, test_size=0.25, random_state=42)"
      ],
      "execution_count": null,
      "outputs": []
    },
    {
      "cell_type": "code",
      "metadata": {
        "id": "YSs4wxrLaD-X",
        "colab_type": "code",
        "colab": {
          "base_uri": "https://localhost:8080/",
          "height": 129
        },
        "outputId": "20e990bb-aca5-4b9c-8274-b5bd535fe495"
      },
      "source": [
        "# 시간 설정\n",
        "import time\n",
        "start = time.time()\n",
        "\n",
        "# Core parameter 설정\n",
        "xgb_grid_5 = GridSearchCV(xgb_model_5th, param_grid = xgb_params_5,\n",
        "                          scoring = my_scorer_f1, cv=4, verbose=1)\n",
        "xgb_grid_5.fit(X_train, y_train)\n",
        "\n",
        "# 최적의 모델 선정 및 소요된 시간 계산(현재시각 - 시작시간 = 실행시간)\n",
        "print(\"Best Score : {}\".format(xgb_grid_5.best_score_))\n",
        "print(\"Best Params : {}\".format(xgb_grid_5.best_params_))\n",
        "print(\"실행에 소요된 시간 :\", time.time()-start)"
      ],
      "execution_count": null,
      "outputs": [
        {
          "output_type": "stream",
          "text": [
            "Fitting 4 folds for each of 15 candidates, totalling 60 fits\n"
          ],
          "name": "stdout"
        },
        {
          "output_type": "stream",
          "text": [
            "[Parallel(n_jobs=1)]: Using backend SequentialBackend with 1 concurrent workers.\n"
          ],
          "name": "stderr"
        },
        {
          "output_type": "stream",
          "text": [
            "Best Score : 1.0\n",
            "Best Params : {'max_depth': 10, 'n_estimators': 100}\n",
            "실행에 소요된 시간 : 12.069653034210205\n"
          ],
          "name": "stdout"
        },
        {
          "output_type": "stream",
          "text": [
            "[Parallel(n_jobs=1)]: Done  60 out of  60 | elapsed:   12.0s finished\n"
          ],
          "name": "stderr"
        }
      ]
    },
    {
      "cell_type": "code",
      "metadata": {
        "id": "gobGRQ3HaPcI",
        "colab_type": "code",
        "colab": {
          "base_uri": "https://localhost:8080/",
          "height": 148
        },
        "outputId": "a15cf5af-9ae2-4829-8591-c70b678a70b3"
      },
      "source": [
        "xgb_grid_5.best_estimator_"
      ],
      "execution_count": null,
      "outputs": [
        {
          "output_type": "execute_result",
          "data": {
            "text/plain": [
              "XGBClassifier(base_score=0.5, booster='gbtree', colsample_bylevel=1,\n",
              "              colsample_bynode=1, colsample_bytree=0.7, gamma=0,\n",
              "              learning_rate=0.1, max_delta_step=0, max_depth=10,\n",
              "              min_child_weight=1, missing=None, n_estimators=100, n_jobs=1,\n",
              "              nthread=None, objective='binary:logistic', random_state=0,\n",
              "              reg_alpha=0, reg_lambda=1, scale_pos_weight=1, seed=None,\n",
              "              silent=None, subsample=0.5, verbosity=1)"
            ]
          },
          "metadata": {
            "tags": []
          },
          "execution_count": 242
        }
      ]
    },
    {
      "cell_type": "code",
      "metadata": {
        "id": "7dybn1wnbu6I",
        "colab_type": "code",
        "colab": {
          "base_uri": "https://localhost:8080/",
          "height": 482
        },
        "outputId": "c05e9acb-d1e2-4001-b752-9142555b4068"
      },
      "source": [
        "# 표 형태로 추출\n",
        "results = pd.DataFrame(xgb_grid_5.cv_results_)\n",
        "results = results.sort_values(by='mean_test_score', ascending=False)\n",
        "results.head()"
      ],
      "execution_count": null,
      "outputs": [
        {
          "output_type": "execute_result",
          "data": {
            "text/html": [
              "<div>\n",
              "<style scoped>\n",
              "    .dataframe tbody tr th:only-of-type {\n",
              "        vertical-align: middle;\n",
              "    }\n",
              "\n",
              "    .dataframe tbody tr th {\n",
              "        vertical-align: top;\n",
              "    }\n",
              "\n",
              "    .dataframe thead th {\n",
              "        text-align: right;\n",
              "    }\n",
              "</style>\n",
              "<table border=\"1\" class=\"dataframe\">\n",
              "  <thead>\n",
              "    <tr style=\"text-align: right;\">\n",
              "      <th></th>\n",
              "      <th>mean_fit_time</th>\n",
              "      <th>std_fit_time</th>\n",
              "      <th>mean_score_time</th>\n",
              "      <th>std_score_time</th>\n",
              "      <th>param_max_depth</th>\n",
              "      <th>param_n_estimators</th>\n",
              "      <th>params</th>\n",
              "      <th>split0_test_score</th>\n",
              "      <th>split1_test_score</th>\n",
              "      <th>split2_test_score</th>\n",
              "      <th>split3_test_score</th>\n",
              "      <th>mean_test_score</th>\n",
              "      <th>std_test_score</th>\n",
              "      <th>rank_test_score</th>\n",
              "    </tr>\n",
              "  </thead>\n",
              "  <tbody>\n",
              "    <tr>\n",
              "      <th>0</th>\n",
              "      <td>0.066894</td>\n",
              "      <td>0.001595</td>\n",
              "      <td>0.003200</td>\n",
              "      <td>0.000359</td>\n",
              "      <td>10</td>\n",
              "      <td>100</td>\n",
              "      <td>{'max_depth': 10, 'n_estimators': 100}</td>\n",
              "      <td>1.0</td>\n",
              "      <td>1.0</td>\n",
              "      <td>1.0</td>\n",
              "      <td>1.0</td>\n",
              "      <td>1.0</td>\n",
              "      <td>0.0</td>\n",
              "      <td>1</td>\n",
              "    </tr>\n",
              "    <tr>\n",
              "      <th>1</th>\n",
              "      <td>0.127994</td>\n",
              "      <td>0.002847</td>\n",
              "      <td>0.003354</td>\n",
              "      <td>0.000360</td>\n",
              "      <td>10</td>\n",
              "      <td>300</td>\n",
              "      <td>{'max_depth': 10, 'n_estimators': 300}</td>\n",
              "      <td>1.0</td>\n",
              "      <td>1.0</td>\n",
              "      <td>1.0</td>\n",
              "      <td>1.0</td>\n",
              "      <td>1.0</td>\n",
              "      <td>0.0</td>\n",
              "      <td>1</td>\n",
              "    </tr>\n",
              "    <tr>\n",
              "      <th>2</th>\n",
              "      <td>0.198414</td>\n",
              "      <td>0.006014</td>\n",
              "      <td>0.003435</td>\n",
              "      <td>0.000093</td>\n",
              "      <td>10</td>\n",
              "      <td>500</td>\n",
              "      <td>{'max_depth': 10, 'n_estimators': 500}</td>\n",
              "      <td>1.0</td>\n",
              "      <td>1.0</td>\n",
              "      <td>1.0</td>\n",
              "      <td>1.0</td>\n",
              "      <td>1.0</td>\n",
              "      <td>0.0</td>\n",
              "      <td>1</td>\n",
              "    </tr>\n",
              "    <tr>\n",
              "      <th>3</th>\n",
              "      <td>0.261204</td>\n",
              "      <td>0.004774</td>\n",
              "      <td>0.003622</td>\n",
              "      <td>0.000137</td>\n",
              "      <td>10</td>\n",
              "      <td>700</td>\n",
              "      <td>{'max_depth': 10, 'n_estimators': 700}</td>\n",
              "      <td>1.0</td>\n",
              "      <td>1.0</td>\n",
              "      <td>1.0</td>\n",
              "      <td>1.0</td>\n",
              "      <td>1.0</td>\n",
              "      <td>0.0</td>\n",
              "      <td>1</td>\n",
              "    </tr>\n",
              "    <tr>\n",
              "      <th>4</th>\n",
              "      <td>0.326180</td>\n",
              "      <td>0.004110</td>\n",
              "      <td>0.003813</td>\n",
              "      <td>0.000085</td>\n",
              "      <td>10</td>\n",
              "      <td>900</td>\n",
              "      <td>{'max_depth': 10, 'n_estimators': 900}</td>\n",
              "      <td>1.0</td>\n",
              "      <td>1.0</td>\n",
              "      <td>1.0</td>\n",
              "      <td>1.0</td>\n",
              "      <td>1.0</td>\n",
              "      <td>0.0</td>\n",
              "      <td>1</td>\n",
              "    </tr>\n",
              "  </tbody>\n",
              "</table>\n",
              "</div>"
            ],
            "text/plain": [
              "   mean_fit_time  std_fit_time  mean_score_time  std_score_time  \\\n",
              "0       0.066894      0.001595         0.003200        0.000359   \n",
              "1       0.127994      0.002847         0.003354        0.000360   \n",
              "2       0.198414      0.006014         0.003435        0.000093   \n",
              "3       0.261204      0.004774         0.003622        0.000137   \n",
              "4       0.326180      0.004110         0.003813        0.000085   \n",
              "\n",
              "  param_max_depth param_n_estimators                                  params  \\\n",
              "0              10                100  {'max_depth': 10, 'n_estimators': 100}   \n",
              "1              10                300  {'max_depth': 10, 'n_estimators': 300}   \n",
              "2              10                500  {'max_depth': 10, 'n_estimators': 500}   \n",
              "3              10                700  {'max_depth': 10, 'n_estimators': 700}   \n",
              "4              10                900  {'max_depth': 10, 'n_estimators': 900}   \n",
              "\n",
              "   split0_test_score  split1_test_score  split2_test_score  split3_test_score  \\\n",
              "0                1.0                1.0                1.0                1.0   \n",
              "1                1.0                1.0                1.0                1.0   \n",
              "2                1.0                1.0                1.0                1.0   \n",
              "3                1.0                1.0                1.0                1.0   \n",
              "4                1.0                1.0                1.0                1.0   \n",
              "\n",
              "   mean_test_score  std_test_score  rank_test_score  \n",
              "0              1.0             0.0                1  \n",
              "1              1.0             0.0                1  \n",
              "2              1.0             0.0                1  \n",
              "3              1.0             0.0                1  \n",
              "4              1.0             0.0                1  "
            ]
          },
          "metadata": {
            "tags": []
          },
          "execution_count": 243
        }
      ]
    },
    {
      "cell_type": "markdown",
      "metadata": {
        "id": "wRsM-TKwaqe1",
        "colab_type": "text"
      },
      "source": [
        "#### 6th. GridSearchCV : learning rate 내리기"
      ]
    },
    {
      "cell_type": "code",
      "metadata": {
        "id": "_pMjch-zaU4s",
        "colab_type": "code",
        "colab": {}
      },
      "source": [
        "my_scorer_f1 = make_scorer(f1_score, greater_is_better = True)\n",
        "my_scorer_acc = make_scorer(accuracy_score, greater_is_better = True)"
      ],
      "execution_count": null,
      "outputs": []
    },
    {
      "cell_type": "code",
      "metadata": {
        "id": "p4bJ-Mv4aw6V",
        "colab_type": "code",
        "colab": {}
      },
      "source": [
        "xgb_model_6nd = XGBClassifier(\n",
        " gamma = 0,\n",
        " n_jobs = 1,\n",
        " subsample = 0.5,\n",
        " colsample_bytree = 0.7,\n",
        " n_estimators = 100,\n",
        " max_depth = 10\n",
        ")"
      ],
      "execution_count": null,
      "outputs": []
    },
    {
      "cell_type": "code",
      "metadata": {
        "id": "p7tcKOMsbAQX",
        "colab_type": "code",
        "colab": {}
      },
      "source": [
        "xgb_params_6 = {'learning_rate' : [0.01, 0.05, 0.005, 0.1, 0.2]}"
      ],
      "execution_count": null,
      "outputs": []
    },
    {
      "cell_type": "code",
      "metadata": {
        "id": "1U97PZ9LbCVQ",
        "colab_type": "code",
        "colab": {}
      },
      "source": [
        "X = df_a[list(df_a)[1:]]\n",
        "y = df_a['PF']\n",
        "\n",
        "X_train, X_test, y_train, y_test = train_test_split(X, y, test_size=0.25, random_state=42)"
      ],
      "execution_count": null,
      "outputs": []
    },
    {
      "cell_type": "code",
      "metadata": {
        "id": "6BVVfFQlbIzF",
        "colab_type": "code",
        "colab": {
          "base_uri": "https://localhost:8080/",
          "height": 129
        },
        "outputId": "6fe88672-2d07-47c4-9024-2c3924d5f6c7"
      },
      "source": [
        "# 시간 설정\n",
        "import time\n",
        "start = time.time()\n",
        "\n",
        "# Core parameter 설정\n",
        "xgb_grid_6 = GridSearchCV(xgb_model_6nd, param_grid = xgb_params_6,\n",
        "                          scoring = my_scorer_f1, cv=5, verbose=1)\n",
        "xgb_grid_6.fit(X_train, y_train)\n",
        "\n",
        "# 최적의 모델 선정 및 소요된 시간 계산(현재시각 - 시작시간 = 실행시간)\n",
        "print(\"Best Score : {}\".format(xgb_grid_6.best_score_))\n",
        "print(\"Best Params : {}\".format(xgb_grid_6.best_params_))\n",
        "print(\"실행에 소요된 시간 :\", time.time()-start)"
      ],
      "execution_count": null,
      "outputs": [
        {
          "output_type": "stream",
          "text": [
            "Fitting 5 folds for each of 5 candidates, totalling 25 fits\n"
          ],
          "name": "stdout"
        },
        {
          "output_type": "stream",
          "text": [
            "[Parallel(n_jobs=1)]: Using backend SequentialBackend with 1 concurrent workers.\n"
          ],
          "name": "stderr"
        },
        {
          "output_type": "stream",
          "text": [
            "Best Score : 1.0\n",
            "Best Params : {'learning_rate': 0.01}\n",
            "실행에 소요된 시간 : 2.1407554149627686\n"
          ],
          "name": "stdout"
        },
        {
          "output_type": "stream",
          "text": [
            "[Parallel(n_jobs=1)]: Done  25 out of  25 | elapsed:    2.0s finished\n"
          ],
          "name": "stderr"
        }
      ]
    },
    {
      "cell_type": "code",
      "metadata": {
        "id": "3uMDdBt8bSbY",
        "colab_type": "code",
        "colab": {
          "base_uri": "https://localhost:8080/",
          "height": 148
        },
        "outputId": "2c2d9e25-20d7-491e-faa2-1de4013e4e9a"
      },
      "source": [
        "xgb_grid_6.best_estimator_"
      ],
      "execution_count": null,
      "outputs": [
        {
          "output_type": "execute_result",
          "data": {
            "text/plain": [
              "XGBClassifier(base_score=0.5, booster='gbtree', colsample_bylevel=1,\n",
              "              colsample_bynode=1, colsample_bytree=0.7, gamma=0,\n",
              "              learning_rate=0.01, max_delta_step=0, max_depth=10,\n",
              "              min_child_weight=1, missing=None, n_estimators=100, n_jobs=1,\n",
              "              nthread=None, objective='binary:logistic', random_state=0,\n",
              "              reg_alpha=0, reg_lambda=1, scale_pos_weight=1, seed=None,\n",
              "              silent=None, subsample=0.5, verbosity=1)"
            ]
          },
          "metadata": {
            "tags": []
          },
          "execution_count": 249
        }
      ]
    },
    {
      "cell_type": "code",
      "metadata": {
        "id": "Bz-RsGFWbVSr",
        "colab_type": "code",
        "colab": {
          "base_uri": "https://localhost:8080/",
          "height": 309
        },
        "outputId": "89f09970-45be-4b48-ae70-f8edf8cc30dc"
      },
      "source": [
        "# 표 형태로 추출\n",
        "results = pd.DataFrame(xgb_grid_6.cv_results_)\n",
        "results = results.sort_values(by='mean_test_score', ascending=False)\n",
        "results.head()"
      ],
      "execution_count": null,
      "outputs": [
        {
          "output_type": "execute_result",
          "data": {
            "text/html": [
              "<div>\n",
              "<style scoped>\n",
              "    .dataframe tbody tr th:only-of-type {\n",
              "        vertical-align: middle;\n",
              "    }\n",
              "\n",
              "    .dataframe tbody tr th {\n",
              "        vertical-align: top;\n",
              "    }\n",
              "\n",
              "    .dataframe thead th {\n",
              "        text-align: right;\n",
              "    }\n",
              "</style>\n",
              "<table border=\"1\" class=\"dataframe\">\n",
              "  <thead>\n",
              "    <tr style=\"text-align: right;\">\n",
              "      <th></th>\n",
              "      <th>mean_fit_time</th>\n",
              "      <th>std_fit_time</th>\n",
              "      <th>mean_score_time</th>\n",
              "      <th>std_score_time</th>\n",
              "      <th>param_learning_rate</th>\n",
              "      <th>params</th>\n",
              "      <th>split0_test_score</th>\n",
              "      <th>split1_test_score</th>\n",
              "      <th>split2_test_score</th>\n",
              "      <th>split3_test_score</th>\n",
              "      <th>split4_test_score</th>\n",
              "      <th>mean_test_score</th>\n",
              "      <th>std_test_score</th>\n",
              "      <th>rank_test_score</th>\n",
              "    </tr>\n",
              "  </thead>\n",
              "  <tbody>\n",
              "    <tr>\n",
              "      <th>0</th>\n",
              "      <td>0.093183</td>\n",
              "      <td>0.002688</td>\n",
              "      <td>0.003066</td>\n",
              "      <td>0.000053</td>\n",
              "      <td>0.01</td>\n",
              "      <td>{'learning_rate': 0.01}</td>\n",
              "      <td>1.0</td>\n",
              "      <td>1.0</td>\n",
              "      <td>1.0</td>\n",
              "      <td>1.0</td>\n",
              "      <td>1.0</td>\n",
              "      <td>1.0</td>\n",
              "      <td>0.0</td>\n",
              "      <td>1</td>\n",
              "    </tr>\n",
              "    <tr>\n",
              "      <th>1</th>\n",
              "      <td>0.079408</td>\n",
              "      <td>0.000624</td>\n",
              "      <td>0.003075</td>\n",
              "      <td>0.000175</td>\n",
              "      <td>0.05</td>\n",
              "      <td>{'learning_rate': 0.05}</td>\n",
              "      <td>1.0</td>\n",
              "      <td>1.0</td>\n",
              "      <td>1.0</td>\n",
              "      <td>1.0</td>\n",
              "      <td>1.0</td>\n",
              "      <td>1.0</td>\n",
              "      <td>0.0</td>\n",
              "      <td>1</td>\n",
              "    </tr>\n",
              "    <tr>\n",
              "      <th>2</th>\n",
              "      <td>0.092308</td>\n",
              "      <td>0.002386</td>\n",
              "      <td>0.003031</td>\n",
              "      <td>0.000057</td>\n",
              "      <td>0.005</td>\n",
              "      <td>{'learning_rate': 0.005}</td>\n",
              "      <td>1.0</td>\n",
              "      <td>1.0</td>\n",
              "      <td>1.0</td>\n",
              "      <td>1.0</td>\n",
              "      <td>1.0</td>\n",
              "      <td>1.0</td>\n",
              "      <td>0.0</td>\n",
              "      <td>1</td>\n",
              "    </tr>\n",
              "    <tr>\n",
              "      <th>3</th>\n",
              "      <td>0.066981</td>\n",
              "      <td>0.001100</td>\n",
              "      <td>0.002866</td>\n",
              "      <td>0.000146</td>\n",
              "      <td>0.1</td>\n",
              "      <td>{'learning_rate': 0.1}</td>\n",
              "      <td>1.0</td>\n",
              "      <td>1.0</td>\n",
              "      <td>1.0</td>\n",
              "      <td>1.0</td>\n",
              "      <td>1.0</td>\n",
              "      <td>1.0</td>\n",
              "      <td>0.0</td>\n",
              "      <td>1</td>\n",
              "    </tr>\n",
              "    <tr>\n",
              "      <th>4</th>\n",
              "      <td>0.054113</td>\n",
              "      <td>0.001767</td>\n",
              "      <td>0.002700</td>\n",
              "      <td>0.000163</td>\n",
              "      <td>0.2</td>\n",
              "      <td>{'learning_rate': 0.2}</td>\n",
              "      <td>1.0</td>\n",
              "      <td>1.0</td>\n",
              "      <td>1.0</td>\n",
              "      <td>1.0</td>\n",
              "      <td>1.0</td>\n",
              "      <td>1.0</td>\n",
              "      <td>0.0</td>\n",
              "      <td>1</td>\n",
              "    </tr>\n",
              "  </tbody>\n",
              "</table>\n",
              "</div>"
            ],
            "text/plain": [
              "   mean_fit_time  std_fit_time  mean_score_time  std_score_time  \\\n",
              "0       0.093183      0.002688         0.003066        0.000053   \n",
              "1       0.079408      0.000624         0.003075        0.000175   \n",
              "2       0.092308      0.002386         0.003031        0.000057   \n",
              "3       0.066981      0.001100         0.002866        0.000146   \n",
              "4       0.054113      0.001767         0.002700        0.000163   \n",
              "\n",
              "  param_learning_rate                    params  split0_test_score  \\\n",
              "0                0.01   {'learning_rate': 0.01}                1.0   \n",
              "1                0.05   {'learning_rate': 0.05}                1.0   \n",
              "2               0.005  {'learning_rate': 0.005}                1.0   \n",
              "3                 0.1    {'learning_rate': 0.1}                1.0   \n",
              "4                 0.2    {'learning_rate': 0.2}                1.0   \n",
              "\n",
              "   split1_test_score  split2_test_score  split3_test_score  split4_test_score  \\\n",
              "0                1.0                1.0                1.0                1.0   \n",
              "1                1.0                1.0                1.0                1.0   \n",
              "2                1.0                1.0                1.0                1.0   \n",
              "3                1.0                1.0                1.0                1.0   \n",
              "4                1.0                1.0                1.0                1.0   \n",
              "\n",
              "   mean_test_score  std_test_score  rank_test_score  \n",
              "0              1.0             0.0                1  \n",
              "1              1.0             0.0                1  \n",
              "2              1.0             0.0                1  \n",
              "3              1.0             0.0                1  \n",
              "4              1.0             0.0                1  "
            ]
          },
          "metadata": {
            "tags": []
          },
          "execution_count": 250
        }
      ]
    },
    {
      "cell_type": "markdown",
      "metadata": {
        "id": "atsaez94b1eI",
        "colab_type": "text"
      },
      "source": [
        "#### 7th. GridSearchCV : learning rate 올리기 (2nd)"
      ]
    },
    {
      "cell_type": "code",
      "metadata": {
        "id": "Tiy7uLuVbzii",
        "colab_type": "code",
        "colab": {}
      },
      "source": [
        "my_scorer_f1 = make_scorer(f1_score, greater_is_better = True)\n",
        "my_scorer_acc = make_scorer(accuracy_score, greater_is_better = True)"
      ],
      "execution_count": null,
      "outputs": []
    },
    {
      "cell_type": "code",
      "metadata": {
        "id": "ec_3rce1b4w2",
        "colab_type": "code",
        "colab": {}
      },
      "source": [
        "xgb_model_7th = XGBClassifier(\n",
        " gamma = 0,\n",
        " n_jobs = 1,\n",
        " subsample = 0.5,\n",
        " colsample_bytree = 0.7,\n",
        " n_estimators = 100,\n",
        " max_depth = 10\n",
        ")"
      ],
      "execution_count": null,
      "outputs": []
    },
    {
      "cell_type": "code",
      "metadata": {
        "id": "hW5YR_ficNDO",
        "colab_type": "code",
        "colab": {}
      },
      "source": [
        "xgb_params_7 = {'learning_rate' : [0.2, 0.25, 0.3, 0.35]}"
      ],
      "execution_count": null,
      "outputs": []
    },
    {
      "cell_type": "code",
      "metadata": {
        "id": "pMAat1pEcO3M",
        "colab_type": "code",
        "colab": {}
      },
      "source": [
        "X = df_a[list(df_a)[1:]]\n",
        "y = df_a['PF']\n",
        "\n",
        "X_train, X_test, y_train, y_test = train_test_split(X, y, test_size=0.25, random_state=42)"
      ],
      "execution_count": null,
      "outputs": []
    },
    {
      "cell_type": "code",
      "metadata": {
        "id": "Db84ttvtcSad",
        "colab_type": "code",
        "colab": {
          "base_uri": "https://localhost:8080/",
          "height": 129
        },
        "outputId": "81f530f4-34ae-44be-b15d-b7835f5db707"
      },
      "source": [
        "# 시간 설정\n",
        "import time\n",
        "start = time.time()\n",
        "\n",
        "# Core parameter 설정\n",
        "xgb_grid_7 = GridSearchCV(xgb_model_7th, param_grid = xgb_params_7,\n",
        "                          scoring = my_scorer_f1, cv=5, verbose=1)\n",
        "xgb_grid_7.fit(X_train, y_train)\n",
        "\n",
        "# 최적의 모델 선정 및 소요된 시간 계산(현재시각 - 시작시간 = 실행시간)\n",
        "print(\"Best Score : {}\".format(xgb_grid_7.best_score_))\n",
        "print(\"Best Params : {}\".format(xgb_grid_7.best_params_))\n",
        "print(\"실행에 소요된 시간 :\", time.time()-start)"
      ],
      "execution_count": null,
      "outputs": [
        {
          "output_type": "stream",
          "text": [
            "Fitting 5 folds for each of 4 candidates, totalling 20 fits\n"
          ],
          "name": "stdout"
        },
        {
          "output_type": "stream",
          "text": [
            "[Parallel(n_jobs=1)]: Using backend SequentialBackend with 1 concurrent workers.\n"
          ],
          "name": "stderr"
        },
        {
          "output_type": "stream",
          "text": [
            "Best Score : 1.0\n",
            "Best Params : {'learning_rate': 0.2}\n",
            "실행에 소요된 시간 : 1.139890432357788\n"
          ],
          "name": "stdout"
        },
        {
          "output_type": "stream",
          "text": [
            "[Parallel(n_jobs=1)]: Done  20 out of  20 | elapsed:    1.1s finished\n"
          ],
          "name": "stderr"
        }
      ]
    },
    {
      "cell_type": "code",
      "metadata": {
        "id": "qB-jvtcccgWm",
        "colab_type": "code",
        "colab": {
          "base_uri": "https://localhost:8080/",
          "height": 148
        },
        "outputId": "983f0023-d68c-4eed-9c70-37aed36f5e38"
      },
      "source": [
        "xgb_grid_7.best_estimator_"
      ],
      "execution_count": null,
      "outputs": [
        {
          "output_type": "execute_result",
          "data": {
            "text/plain": [
              "XGBClassifier(base_score=0.5, booster='gbtree', colsample_bylevel=1,\n",
              "              colsample_bynode=1, colsample_bytree=0.7, gamma=0,\n",
              "              learning_rate=0.2, max_delta_step=0, max_depth=10,\n",
              "              min_child_weight=1, missing=None, n_estimators=100, n_jobs=1,\n",
              "              nthread=None, objective='binary:logistic', random_state=0,\n",
              "              reg_alpha=0, reg_lambda=1, scale_pos_weight=1, seed=None,\n",
              "              silent=None, subsample=0.5, verbosity=1)"
            ]
          },
          "metadata": {
            "tags": []
          },
          "execution_count": 256
        }
      ]
    },
    {
      "cell_type": "code",
      "metadata": {
        "id": "H5bJwyZccie8",
        "colab_type": "code",
        "colab": {
          "base_uri": "https://localhost:8080/",
          "height": 261
        },
        "outputId": "6986e696-2ed3-4a4c-8b3d-c612ccbc0efc"
      },
      "source": [
        "# 표 형태로 추출\n",
        "results = pd.DataFrame(xgb_grid_7.cv_results_)\n",
        "results = results.sort_values(by='mean_test_score', ascending=False)\n",
        "results.head()"
      ],
      "execution_count": null,
      "outputs": [
        {
          "output_type": "execute_result",
          "data": {
            "text/html": [
              "<div>\n",
              "<style scoped>\n",
              "    .dataframe tbody tr th:only-of-type {\n",
              "        vertical-align: middle;\n",
              "    }\n",
              "\n",
              "    .dataframe tbody tr th {\n",
              "        vertical-align: top;\n",
              "    }\n",
              "\n",
              "    .dataframe thead th {\n",
              "        text-align: right;\n",
              "    }\n",
              "</style>\n",
              "<table border=\"1\" class=\"dataframe\">\n",
              "  <thead>\n",
              "    <tr style=\"text-align: right;\">\n",
              "      <th></th>\n",
              "      <th>mean_fit_time</th>\n",
              "      <th>std_fit_time</th>\n",
              "      <th>mean_score_time</th>\n",
              "      <th>std_score_time</th>\n",
              "      <th>param_learning_rate</th>\n",
              "      <th>params</th>\n",
              "      <th>split0_test_score</th>\n",
              "      <th>split1_test_score</th>\n",
              "      <th>split2_test_score</th>\n",
              "      <th>split3_test_score</th>\n",
              "      <th>split4_test_score</th>\n",
              "      <th>mean_test_score</th>\n",
              "      <th>std_test_score</th>\n",
              "      <th>rank_test_score</th>\n",
              "    </tr>\n",
              "  </thead>\n",
              "  <tbody>\n",
              "    <tr>\n",
              "      <th>0</th>\n",
              "      <td>0.054248</td>\n",
              "      <td>0.003075</td>\n",
              "      <td>0.002514</td>\n",
              "      <td>0.000054</td>\n",
              "      <td>0.2</td>\n",
              "      <td>{'learning_rate': 0.2}</td>\n",
              "      <td>1.0</td>\n",
              "      <td>1.0</td>\n",
              "      <td>1.0</td>\n",
              "      <td>1.0</td>\n",
              "      <td>1.0</td>\n",
              "      <td>1.0</td>\n",
              "      <td>0.0</td>\n",
              "      <td>1</td>\n",
              "    </tr>\n",
              "    <tr>\n",
              "      <th>1</th>\n",
              "      <td>0.049909</td>\n",
              "      <td>0.001904</td>\n",
              "      <td>0.002473</td>\n",
              "      <td>0.000027</td>\n",
              "      <td>0.25</td>\n",
              "      <td>{'learning_rate': 0.25}</td>\n",
              "      <td>1.0</td>\n",
              "      <td>1.0</td>\n",
              "      <td>1.0</td>\n",
              "      <td>1.0</td>\n",
              "      <td>1.0</td>\n",
              "      <td>1.0</td>\n",
              "      <td>0.0</td>\n",
              "      <td>1</td>\n",
              "    </tr>\n",
              "    <tr>\n",
              "      <th>2</th>\n",
              "      <td>0.048419</td>\n",
              "      <td>0.001578</td>\n",
              "      <td>0.002487</td>\n",
              "      <td>0.000064</td>\n",
              "      <td>0.3</td>\n",
              "      <td>{'learning_rate': 0.3}</td>\n",
              "      <td>1.0</td>\n",
              "      <td>1.0</td>\n",
              "      <td>1.0</td>\n",
              "      <td>1.0</td>\n",
              "      <td>1.0</td>\n",
              "      <td>1.0</td>\n",
              "      <td>0.0</td>\n",
              "      <td>1</td>\n",
              "    </tr>\n",
              "    <tr>\n",
              "      <th>3</th>\n",
              "      <td>0.048678</td>\n",
              "      <td>0.001975</td>\n",
              "      <td>0.002510</td>\n",
              "      <td>0.000103</td>\n",
              "      <td>0.35</td>\n",
              "      <td>{'learning_rate': 0.35}</td>\n",
              "      <td>1.0</td>\n",
              "      <td>1.0</td>\n",
              "      <td>1.0</td>\n",
              "      <td>1.0</td>\n",
              "      <td>1.0</td>\n",
              "      <td>1.0</td>\n",
              "      <td>0.0</td>\n",
              "      <td>1</td>\n",
              "    </tr>\n",
              "  </tbody>\n",
              "</table>\n",
              "</div>"
            ],
            "text/plain": [
              "   mean_fit_time  std_fit_time  mean_score_time  std_score_time  \\\n",
              "0       0.054248      0.003075         0.002514        0.000054   \n",
              "1       0.049909      0.001904         0.002473        0.000027   \n",
              "2       0.048419      0.001578         0.002487        0.000064   \n",
              "3       0.048678      0.001975         0.002510        0.000103   \n",
              "\n",
              "  param_learning_rate                   params  split0_test_score  \\\n",
              "0                 0.2   {'learning_rate': 0.2}                1.0   \n",
              "1                0.25  {'learning_rate': 0.25}                1.0   \n",
              "2                 0.3   {'learning_rate': 0.3}                1.0   \n",
              "3                0.35  {'learning_rate': 0.35}                1.0   \n",
              "\n",
              "   split1_test_score  split2_test_score  split3_test_score  split4_test_score  \\\n",
              "0                1.0                1.0                1.0                1.0   \n",
              "1                1.0                1.0                1.0                1.0   \n",
              "2                1.0                1.0                1.0                1.0   \n",
              "3                1.0                1.0                1.0                1.0   \n",
              "\n",
              "   mean_test_score  std_test_score  rank_test_score  \n",
              "0              1.0             0.0                1  \n",
              "1              1.0             0.0                1  \n",
              "2              1.0             0.0                1  \n",
              "3              1.0             0.0                1  "
            ]
          },
          "metadata": {
            "tags": []
          },
          "execution_count": 257
        }
      ]
    },
    {
      "cell_type": "markdown",
      "metadata": {
        "id": "zZIXqCrpcpGb",
        "colab_type": "text"
      },
      "source": [
        "### (2) A: 2nd Model"
      ]
    },
    {
      "cell_type": "code",
      "metadata": {
        "id": "xRX4ESMkcm-p",
        "colab_type": "code",
        "colab": {}
      },
      "source": [
        "# Pass Fail 여부 확인 위해 Y를 'PF' column으로 지정\n",
        "X = df_a[list(df_a)[1:]]\n",
        "y = df_a['PF']\n",
        "\n",
        "# train, test 설정\n",
        "X_train, X_test, y_train, y_test = train_test_split(X, y, test_size=0.25, random_state=42)"
      ],
      "execution_count": null,
      "outputs": []
    },
    {
      "cell_type": "markdown",
      "metadata": {
        "id": "NITi84z0dGd-",
        "colab_type": "text"
      },
      "source": [
        "학습 진행 시작"
      ]
    },
    {
      "cell_type": "code",
      "metadata": {
        "id": "RlEmdN0DctKS",
        "colab_type": "code",
        "colab": {}
      },
      "source": [
        "best_xgb_model_A = xgb_grid_7.best_estimator_"
      ],
      "execution_count": null,
      "outputs": []
    },
    {
      "cell_type": "code",
      "metadata": {
        "id": "f7lZWJltdJz0",
        "colab_type": "code",
        "colab": {
          "base_uri": "https://localhost:8080/",
          "height": 148
        },
        "outputId": "4bdadf9e-f251-43e9-d198-67d13f15dbaa"
      },
      "source": [
        "best_xgb_model_A"
      ],
      "execution_count": null,
      "outputs": [
        {
          "output_type": "execute_result",
          "data": {
            "text/plain": [
              "XGBClassifier(base_score=0.5, booster='gbtree', colsample_bylevel=1,\n",
              "              colsample_bynode=1, colsample_bytree=0.7, gamma=0,\n",
              "              learning_rate=0.2, max_delta_step=0, max_depth=10,\n",
              "              min_child_weight=1, missing=None, n_estimators=100, n_jobs=1,\n",
              "              nthread=None, objective='binary:logistic', random_state=0,\n",
              "              reg_alpha=0, reg_lambda=1, scale_pos_weight=1, seed=None,\n",
              "              silent=None, subsample=0.5, verbosity=1)"
            ]
          },
          "metadata": {
            "tags": []
          },
          "execution_count": 260
        }
      ]
    },
    {
      "cell_type": "code",
      "metadata": {
        "id": "bYU4kTHhdLbS",
        "colab_type": "code",
        "colab": {
          "base_uri": "https://localhost:8080/",
          "height": 36
        },
        "outputId": "318d9ec4-3a93-440c-b3eb-39f6206557ac"
      },
      "source": [
        "start = time.time()   # 시간 설정\n",
        "\n",
        "best_xgb_model_A.fit(X_train, y_train)\n",
        "\n",
        "print(\"실행에 소요된 시간 :\", time.time()-start) # 소요된 시간 계산(현재시각 - 시작시간 = 실행시간)"
      ],
      "execution_count": null,
      "outputs": [
        {
          "output_type": "stream",
          "text": [
            "실행에 소요된 시간 : 0.07187962532043457\n"
          ],
          "name": "stdout"
        }
      ]
    },
    {
      "cell_type": "code",
      "metadata": {
        "id": "qvT2NISUde0f",
        "colab_type": "code",
        "colab": {
          "base_uri": "https://localhost:8080/",
          "height": 36
        },
        "outputId": "b0947d65-fff2-4241-ae60-275531a56d13"
      },
      "source": [
        "best_xgb_model_A.predict(X_test)\n",
        "\n",
        "y_pred = best_xgb_model_A.predict(X_test)\n",
        "\n",
        "f1_score(y_test,y_pred, average='weighted')"
      ],
      "execution_count": null,
      "outputs": [
        {
          "output_type": "execute_result",
          "data": {
            "text/plain": [
              "1.0"
            ]
          },
          "metadata": {
            "tags": []
          },
          "execution_count": 262
        }
      ]
    },
    {
      "cell_type": "code",
      "metadata": {
        "id": "BP1_nxQJdkjJ",
        "colab_type": "code",
        "colab": {}
      },
      "source": [
        "# 모델 저장\n",
        "pickle.dump(best_xgb_model_A, open(\"best_XGB_A.sav\", 'wb'))"
      ],
      "execution_count": null,
      "outputs": []
    },
    {
      "cell_type": "markdown",
      "metadata": {
        "id": "VnsvcA89dr8h",
        "colab_type": "text"
      },
      "source": [
        "### (3) B: 1st Model"
      ]
    },
    {
      "cell_type": "code",
      "metadata": {
        "id": "W7oI86uUdq2m",
        "colab_type": "code",
        "colab": {}
      },
      "source": [
        "# Pass Fail 여부 확인 위해 Y를 'PF' column으로 지정\n",
        "X = df_b[list(df_b)[1:]]\n",
        "y = df_b['PF']\n",
        "\n",
        "# train, test 설정\n",
        "X_train, X_test, y_train, y_test = train_test_split(X, y, test_size=0.25, random_state=42)"
      ],
      "execution_count": null,
      "outputs": []
    },
    {
      "cell_type": "markdown",
      "metadata": {
        "id": "3bkOwp6feVs5",
        "colab_type": "text"
      },
      "source": [
        "학습 진행 시작"
      ]
    },
    {
      "cell_type": "code",
      "metadata": {
        "id": "7qhlrRPdd3Wf",
        "colab_type": "code",
        "colab": {}
      },
      "source": [
        "xgb_model_B_1 = xgb_grid_7.best_estimator_"
      ],
      "execution_count": null,
      "outputs": []
    },
    {
      "cell_type": "code",
      "metadata": {
        "id": "izUHEq4Rd5NV",
        "colab_type": "code",
        "colab": {
          "base_uri": "https://localhost:8080/",
          "height": 148
        },
        "outputId": "fcad7779-e8cd-421f-e9db-bb0b211b42f6"
      },
      "source": [
        "xgb_model_B_1"
      ],
      "execution_count": null,
      "outputs": [
        {
          "output_type": "execute_result",
          "data": {
            "text/plain": [
              "XGBClassifier(base_score=0.5, booster='gbtree', colsample_bylevel=1,\n",
              "              colsample_bynode=1, colsample_bytree=0.7, gamma=0,\n",
              "              learning_rate=0.2, max_delta_step=0, max_depth=10,\n",
              "              min_child_weight=1, missing=None, n_estimators=100, n_jobs=1,\n",
              "              nthread=None, objective='binary:logistic', random_state=0,\n",
              "              reg_alpha=0, reg_lambda=1, scale_pos_weight=1, seed=None,\n",
              "              silent=None, subsample=0.5, verbosity=1)"
            ]
          },
          "metadata": {
            "tags": []
          },
          "execution_count": 266
        }
      ]
    },
    {
      "cell_type": "code",
      "metadata": {
        "id": "lnjRa8JHd6hj",
        "colab_type": "code",
        "colab": {
          "base_uri": "https://localhost:8080/",
          "height": 36
        },
        "outputId": "1de0229b-4488-4231-8de1-cb1b1c23057e"
      },
      "source": [
        "start = time.time()   # 시간 설정\n",
        "\n",
        "xgb_model_B_1.fit(X_train, y_train)\n",
        "\n",
        "print(\"실행에 소요된 시간 :\", time.time()-start) # 소요된 시간 계산(현재시각 - 시작시간 = 실행시간)"
      ],
      "execution_count": null,
      "outputs": [
        {
          "output_type": "stream",
          "text": [
            "실행에 소요된 시간 : 0.0732424259185791\n"
          ],
          "name": "stdout"
        }
      ]
    },
    {
      "cell_type": "code",
      "metadata": {
        "id": "4DleU3s2eMbT",
        "colab_type": "code",
        "colab": {
          "base_uri": "https://localhost:8080/",
          "height": 36
        },
        "outputId": "603cd56f-9a09-48f1-a530-3a6e2a4ecbaf"
      },
      "source": [
        "xgb_model_B_1.predict(X_test)\n",
        "\n",
        "y_pred = xgb_model_B_1.predict(X_test)\n",
        "\n",
        "f1_score(y_test,y_pred, average='weighted')"
      ],
      "execution_count": null,
      "outputs": [
        {
          "output_type": "execute_result",
          "data": {
            "text/plain": [
              "1.0"
            ]
          },
          "metadata": {
            "tags": []
          },
          "execution_count": 268
        }
      ]
    },
    {
      "cell_type": "code",
      "metadata": {
        "id": "PDL4q1I-ePSx",
        "colab_type": "code",
        "colab": {}
      },
      "source": [
        "# 모델 저장\n",
        "pickle.dump(xgb_model_B_1, open(\"best_xgb_model_B.sav\", 'wb'))"
      ],
      "execution_count": null,
      "outputs": []
    },
    {
      "cell_type": "markdown",
      "metadata": {
        "id": "UXK56O2XeaSq",
        "colab_type": "text"
      },
      "source": [
        "### (4) B: 2nd Model"
      ]
    },
    {
      "cell_type": "code",
      "metadata": {
        "id": "9UligOw7eR9n",
        "colab_type": "code",
        "colab": {}
      },
      "source": [
        "# Pass Fail 여부 확인 위해 Y를 'PF' column으로 지정\n",
        "X = df_b[list(df_b)[1:]]\n",
        "y = df_b['PF']\n",
        "\n",
        "# train, test 설정\n",
        "X_train, X_test, y_train, y_test = train_test_split(X, y, test_size=0.25, random_state=42)"
      ],
      "execution_count": null,
      "outputs": []
    },
    {
      "cell_type": "markdown",
      "metadata": {
        "id": "6cT79x3YeqzG",
        "colab_type": "text"
      },
      "source": [
        "학습 진행 시작"
      ]
    },
    {
      "cell_type": "code",
      "metadata": {
        "id": "gU_z9hiueoJk",
        "colab_type": "code",
        "colab": {}
      },
      "source": [
        "xgb_model_B_2 = XGBClassifier(base_score=0.5, booster='gbtree', colsample_bylevel=1,\n",
        "              colsample_bynode=1, colsample_bytree=0.7, gamma=0,\n",
        "              learning_rate=0.02, max_delta_step=0, max_depth=10,\n",
        "              min_child_weight=1, missing=None, n_estimators=100, n_jobs=1,\n",
        "              nthread=None, objective='binary:logistic', random_state=0,\n",
        "              reg_alpha=0, reg_lambda=1, scale_pos_weight=1, seed=None,\n",
        "              silent=None, subsample=0.5, verbosity=1)"
      ],
      "execution_count": null,
      "outputs": []
    },
    {
      "cell_type": "code",
      "metadata": {
        "id": "b7CxbMMIfFw1",
        "colab_type": "code",
        "colab": {
          "base_uri": "https://localhost:8080/",
          "height": 148
        },
        "outputId": "ae1eaa7b-c7a0-4f5f-99e1-5bc580839dc2"
      },
      "source": [
        "xgb_model_B_2"
      ],
      "execution_count": null,
      "outputs": [
        {
          "output_type": "execute_result",
          "data": {
            "text/plain": [
              "XGBClassifier(base_score=0.5, booster='gbtree', colsample_bylevel=1,\n",
              "              colsample_bynode=1, colsample_bytree=0.7, gamma=0,\n",
              "              learning_rate=0.02, max_delta_step=0, max_depth=10,\n",
              "              min_child_weight=1, missing=None, n_estimators=100, n_jobs=1,\n",
              "              nthread=None, objective='binary:logistic', random_state=0,\n",
              "              reg_alpha=0, reg_lambda=1, scale_pos_weight=1, seed=None,\n",
              "              silent=None, subsample=0.5, verbosity=1)"
            ]
          },
          "metadata": {
            "tags": []
          },
          "execution_count": 272
        }
      ]
    },
    {
      "cell_type": "code",
      "metadata": {
        "id": "8NIvAlcAfHnc",
        "colab_type": "code",
        "colab": {
          "base_uri": "https://localhost:8080/",
          "height": 36
        },
        "outputId": "e9c0ae95-4519-4d53-a6c5-08edc31d4ab7"
      },
      "source": [
        "start = time.time()   # 시간 설정\n",
        "\n",
        "xgb_model_B_2.fit(X_train, y_train)\n",
        "\n",
        "print(\"실행에 소요된 시간 :\", time.time()-start) # 소요된 시간 계산(현재시각 - 시작시간 = 실행시간)"
      ],
      "execution_count": null,
      "outputs": [
        {
          "output_type": "stream",
          "text": [
            "실행에 소요된 시간 : 0.12050724029541016\n"
          ],
          "name": "stdout"
        }
      ]
    },
    {
      "cell_type": "code",
      "metadata": {
        "id": "6PQqQk66fNWn",
        "colab_type": "code",
        "colab": {
          "base_uri": "https://localhost:8080/",
          "height": 36
        },
        "outputId": "097ed000-df28-4b6c-eabc-2abc72dbbeb1"
      },
      "source": [
        "xgb_model_B_2.predict(X_test)\n",
        "\n",
        "y_pred = xgb_model_B_2.predict(X_test)\n",
        "\n",
        "f1_score(y_test,y_pred, average='weighted')"
      ],
      "execution_count": null,
      "outputs": [
        {
          "output_type": "execute_result",
          "data": {
            "text/plain": [
              "1.0"
            ]
          },
          "metadata": {
            "tags": []
          },
          "execution_count": 274
        }
      ]
    },
    {
      "cell_type": "code",
      "metadata": {
        "id": "yPBqC_mEfTrQ",
        "colab_type": "code",
        "colab": {}
      },
      "source": [
        "# 모델 저장\n",
        "pickle.dump(xgb_model_B_2, open(\"best_XGB_B.sav\", 'wb'))"
      ],
      "execution_count": null,
      "outputs": []
    },
    {
      "cell_type": "markdown",
      "metadata": {
        "id": "B9TCYw_Ofanr",
        "colab_type": "text"
      },
      "source": [
        "## 2) LightGBM"
      ]
    },
    {
      "cell_type": "markdown",
      "metadata": {
        "id": "kSwbVFAqfc38",
        "colab_type": "text"
      },
      "source": [
        "### (1) A: best_LightGBM_model"
      ]
    },
    {
      "cell_type": "code",
      "metadata": {
        "id": "2ijfREP_fYr3",
        "colab_type": "code",
        "colab": {}
      },
      "source": [
        "# Pass Fail 여부 확인 위해 Y를 'PF' column으로 지정\n",
        "X = df_a[list(df_a)[1:]]\n",
        "y = df_a['PF']\n",
        "\n",
        "# train, test 설정\n",
        "X_train, X_test, y_train, y_test = train_test_split(X, y, test_size=0.25)"
      ],
      "execution_count": null,
      "outputs": []
    },
    {
      "cell_type": "code",
      "metadata": {
        "id": "B08TbPjtfjG7",
        "colab_type": "code",
        "colab": {}
      },
      "source": [
        "lgbm_params = {\"max_depth\": 10, \"learning_rate\" : 0.2, \"num_leaves\": 100,  \"n_estimators\": 100}"
      ],
      "execution_count": null,
      "outputs": []
    },
    {
      "cell_type": "code",
      "metadata": {
        "id": "HQYdu7d9f79d",
        "colab_type": "code",
        "colab": {
          "base_uri": "https://localhost:8080/",
          "height": 93
        },
        "outputId": "2291f72b-be45-4748-d771-bc160eeba99f"
      },
      "source": [
        "start = time.time()   # 시간 설정\n",
        "\n",
        "lgb_train = lgb.Dataset(X_train, y_train)\n",
        "lgb_eval = lgb.Dataset(X_test, y_test, reference=lgb_train)\n",
        "\n",
        "model = lgb.train(lgbm_params, lgb_train, 2500, lgb_eval, verbose_eval=10)\n",
        "print(\"실행에 소요된 시간 :\", time.time()-start) # 소요된 시간 계산(현재시각 - 시작시간 = 실행시간)"
      ],
      "execution_count": null,
      "outputs": [
        {
          "output_type": "stream",
          "text": [
            "실행에 소요된 시간 : 0.05657649040222168\n"
          ],
          "name": "stdout"
        },
        {
          "output_type": "stream",
          "text": [
            "/usr/local/lib/python3.6/dist-packages/lightgbm/engine.py:118: UserWarning: Found `n_estimators` in params. Will use it instead of argument\n",
            "  warnings.warn(\"Found `{}` in params. Will use it instead of argument\".format(alias))\n"
          ],
          "name": "stderr"
        }
      ]
    },
    {
      "cell_type": "code",
      "metadata": {
        "id": "JBcs56EvgJva",
        "colab_type": "code",
        "colab": {}
      },
      "source": [
        "y_pred = model.predict(X_test)"
      ],
      "execution_count": null,
      "outputs": []
    },
    {
      "cell_type": "code",
      "metadata": {
        "id": "zLRQe0-vgMTO",
        "colab_type": "code",
        "colab": {
          "base_uri": "https://localhost:8080/",
          "height": 36
        },
        "outputId": "904cfc39-2018-4b99-c4d7-171818299f13"
      },
      "source": [
        "roc_auc_score(y_test, y_pred)"
      ],
      "execution_count": null,
      "outputs": [
        {
          "output_type": "execute_result",
          "data": {
            "text/plain": [
              "1.0"
            ]
          },
          "metadata": {
            "tags": []
          },
          "execution_count": 280
        }
      ]
    },
    {
      "cell_type": "code",
      "metadata": {
        "id": "kmkLCRoIgN4Y",
        "colab_type": "code",
        "colab": {}
      },
      "source": [
        "# 모델 저장\n",
        "pickle.dump(model, open(\"best_LightGBM_A.sav\", 'wb'))"
      ],
      "execution_count": null,
      "outputs": []
    },
    {
      "cell_type": "markdown",
      "metadata": {
        "id": "-Q4eyO8PgSrG",
        "colab_type": "text"
      },
      "source": [
        "### (2) B: best_LightGBM_model"
      ]
    },
    {
      "cell_type": "code",
      "metadata": {
        "id": "bgLmjawGgRiJ",
        "colab_type": "code",
        "colab": {}
      },
      "source": [
        "# Pass Fail 여부 확인 위해 Y를 'PF' column으로 지정\n",
        "X = df_b[list(df_b)[1:]]\n",
        "y = df_b['PF']\n",
        "\n",
        "# train, test 설정\n",
        "X_train, X_test, y_train, y_test = train_test_split(X, y, test_size=0.25)"
      ],
      "execution_count": null,
      "outputs": []
    },
    {
      "cell_type": "code",
      "metadata": {
        "id": "6urMbFNogag9",
        "colab_type": "code",
        "colab": {}
      },
      "source": [
        "lgbm_params = {\"max_depth\": 10, \"learning_rate\" : 0.2, \"num_leaves\": 100,  \"n_estimators\": 100}"
      ],
      "execution_count": null,
      "outputs": []
    },
    {
      "cell_type": "code",
      "metadata": {
        "id": "wyG8KAXugfU2",
        "colab_type": "code",
        "colab": {
          "base_uri": "https://localhost:8080/",
          "height": 93
        },
        "outputId": "c83e5ed1-7290-471f-b401-cdc9b5023cf7"
      },
      "source": [
        "start = time.time()   # 시간 설정\n",
        "\n",
        "lgb_train = lgb.Dataset(X_train, y_train)\n",
        "lgb_eval = lgb.Dataset(X_test, y_test, reference=lgb_train)\n",
        "\n",
        "model = lgb.train(lgbm_params, lgb_train, 2500, lgb_eval, verbose_eval=10)\n",
        "print(\"실행에 소요된 시간 :\", time.time()-start) # 소요된 시간 계산(현재시각 - 시작시간 = 실행시간)"
      ],
      "execution_count": null,
      "outputs": [
        {
          "output_type": "stream",
          "text": [
            "실행에 소요된 시간 : 0.06937837600708008\n"
          ],
          "name": "stdout"
        },
        {
          "output_type": "stream",
          "text": [
            "/usr/local/lib/python3.6/dist-packages/lightgbm/engine.py:118: UserWarning: Found `n_estimators` in params. Will use it instead of argument\n",
            "  warnings.warn(\"Found `{}` in params. Will use it instead of argument\".format(alias))\n"
          ],
          "name": "stderr"
        }
      ]
    },
    {
      "cell_type": "code",
      "metadata": {
        "id": "1uRy3P5Zgu2o",
        "colab_type": "code",
        "colab": {}
      },
      "source": [
        "y_pred = model.predict(X_test)"
      ],
      "execution_count": null,
      "outputs": []
    },
    {
      "cell_type": "code",
      "metadata": {
        "id": "QraEDvTPgwqn",
        "colab_type": "code",
        "colab": {
          "base_uri": "https://localhost:8080/",
          "height": 36
        },
        "outputId": "3c63b9bd-ee19-4118-d06c-5d326bbf2e2b"
      },
      "source": [
        "roc_auc_score(y_test, y_pred)"
      ],
      "execution_count": null,
      "outputs": [
        {
          "output_type": "execute_result",
          "data": {
            "text/plain": [
              "1.0"
            ]
          },
          "metadata": {
            "tags": []
          },
          "execution_count": 286
        }
      ]
    },
    {
      "cell_type": "code",
      "metadata": {
        "id": "9aHVeXYEgytG",
        "colab_type": "code",
        "colab": {}
      },
      "source": [
        "# 모델 저장\n",
        "pickle.dump(model, open(\"best_LightGBM_B.sav\", 'wb'))"
      ],
      "execution_count": null,
      "outputs": []
    },
    {
      "cell_type": "code",
      "metadata": {
        "id": "Q3Uopb-xg0-3",
        "colab_type": "code",
        "colab": {}
      },
      "source": [
        ""
      ],
      "execution_count": null,
      "outputs": []
    }
  ]
}
